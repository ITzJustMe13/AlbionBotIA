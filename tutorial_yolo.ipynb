{
 "cells": [
  {
   "cell_type": "code",
   "metadata": {},
   "source": [
    "from IPython import display\n",
    "display.clear_output()\n",
    "\n",
    "import cv2\n",
    "import os\n",
    "import matplotlib.pyplot as plt\n",
    "import matplotlib.image as mpimg\n",
    "\n",
    "import roboflow\n",
    "\n",
    "import ultralytics\n",
    "from ultralytics import YOLO\n",
    "ultralytics.checks()"
   ],
   "execution_count": 3,
   "outputs": [
    {
     "name": "stdout",
     "output_type": "stream",
     "text": [
      "Ultralytics 8.3.112  Python-3.13.3 torch-2.6.0+cpu CPU (AMD Ryzen 5 7600 6-Core Processor)\n",
      "Setup complete  (12 CPUs, 31.2 GB RAM, 792.1/930.7 GB disk)\n"
     ]
    }
   ]
  },
  {
   "cell_type": "code",
   "metadata": {
    "ExecuteTime": {
     "end_time": "2025-04-21T15:18:32.970906Z",
     "start_time": "2025-04-21T15:18:32.967648Z"
    }
   },
   "source": [
    "# Em apple sillicon, verificar se o MPS está disponível\n",
    "import torch\n",
    "print(torch.backends.mps.is_available())"
   ],
   "outputs": [
    {
     "name": "stdout",
     "output_type": "stream",
     "text": [
      "False\n"
     ]
    }
   ],
   "execution_count": 7
  },
  {
   "cell_type": "markdown",
   "metadata": {},
   "source": [
    "# Treino de um modelo"
   ]
  },
  {
   "cell_type": "code",
   "metadata": {
    "ExecuteTime": {
     "end_time": "2025-04-21T15:14:41.023373Z",
     "start_time": "2025-04-21T15:14:36.400760Z"
    }
   },
   "source": [
    "# descarregar o dataset do roboflow, depois de etiquetadas as imagens e criado o dataset\n",
    "# em Mac tive problemas de permissões e foi necessário dar permissões à pasta de conf. do roboflow:\n",
    "# - sudo mkdir /Users/davidecarneiro/.config/roboflow (criar pasta onde vai guardar a conf.)\n",
    "# - sudo chown -R davidecarneiro:staff ~/.config/roboflow (dar permissões ao meu user)\n",
    "roboflow.login()\n",
    "\n",
    "# criar um ficheiro com a key da api do roboflow, ou simplesmente substituir abaixo\n",
    "with open('api_key.txt', \"r\") as file:\n",
    "    api_key = file.read().strip() \n",
    "\n",
    "rf = roboflow.Roboflow(api_key)\n",
    "\n",
    "# substituir nome do workspace e do projeto\n",
    "project = rf.workspace(\"albiononline-ia\").project(\"albion-bot-e1ypw\")\n",
    "# se versão do dataset > 1, substituir pela versão correspondente\n",
    "dataset = project.version(4).download(\"yolov8\")\n",
    "# WARN: necessário verificar os paths no ficheiro data.yaml, após este ser descarregado"
   ],
   "outputs": [
    {
     "name": "stdout",
     "output_type": "stream",
     "text": [
      "You are already logged into Roboflow. To make a different login,run roboflow.login(force=True).\n",
      "loading Roboflow workspace...\n",
      "loading Roboflow project...\n"
     ]
    },
    {
     "name": "stderr",
     "output_type": "stream",
     "text": [
      "Downloading Dataset Version Zip in Albion-Bot-4 to yolov8:: 100%|██████████| 20444/20444 [00:01<00:00, 14077.62it/s]"
     ]
    },
    {
     "name": "stdout",
     "output_type": "stream",
     "text": [
      "\n"
     ]
    },
    {
     "name": "stderr",
     "output_type": "stream",
     "text": [
      "\n",
      "Extracting Dataset Version Zip to Albion-Bot-4 in yolov8:: 100%|██████████| 640/640 [00:00<00:00, 2665.59it/s]\n"
     ]
    }
   ],
   "execution_count": 2
  },
  {
   "cell_type": "code",
   "metadata": {
    "ExecuteTime": {
     "end_time": "2025-04-21T19:09:35.355080Z",
     "start_time": "2025-04-21T16:42:31.418938Z"
    }
   },
   "source": [
    "# treinar o modelo\n",
    "# lista de modelos pre-treinados disponível em https://docs.ultralytics.com/models/yolov8/#performance-metrics\n",
    "model = YOLO(\"yolov8m.pt\")  # carregar o modelo pre-treinado que se descarregou\n",
    "\n",
    "# Treinar o modelo\n",
    "# results = model.train(data='./data.yaml', epochs=100, imgsz=640, device=[0, 1]) # intel/windows\n",
    "results = model.train(data='./data.yaml', epochs=50, imgsz=640) # apple sillicon"
   ],
   "outputs": [
    {
     "name": "stdout",
     "output_type": "stream",
     "text": [
      "Ultralytics 8.3.112  Python-3.13.3 torch-2.6.0+cpu CPU (AMD Ryzen 5 7600 6-Core Processor)\n",
      "\u001B[34m\u001B[1mengine\\trainer: \u001B[0mtask=detect, mode=train, model=yolov8m.pt, data=./data.yaml, epochs=50, time=None, patience=100, batch=16, imgsz=640, save=True, save_period=-1, cache=False, device=None, workers=8, project=None, name=train4, exist_ok=False, pretrained=True, optimizer=auto, verbose=True, seed=0, deterministic=True, single_cls=False, rect=False, cos_lr=False, close_mosaic=10, resume=False, amp=True, fraction=1.0, profile=False, freeze=None, multi_scale=False, overlap_mask=True, mask_ratio=4, dropout=0.0, val=True, split=val, save_json=False, conf=None, iou=0.7, max_det=300, half=False, dnn=False, plots=True, source=None, vid_stride=1, stream_buffer=False, visualize=False, augment=False, agnostic_nms=False, classes=None, retina_masks=False, embed=None, show=False, save_frames=False, save_txt=False, save_conf=False, save_crop=False, show_labels=True, show_conf=True, show_boxes=True, line_width=None, format=torchscript, keras=False, optimize=False, int8=False, dynamic=False, simplify=True, opset=None, workspace=None, nms=False, lr0=0.01, lrf=0.01, momentum=0.937, weight_decay=0.0005, warmup_epochs=3.0, warmup_momentum=0.8, warmup_bias_lr=0.1, box=7.5, cls=0.5, dfl=1.5, pose=12.0, kobj=1.0, nbs=64, hsv_h=0.015, hsv_s=0.7, hsv_v=0.4, degrees=0.0, translate=0.1, scale=0.5, shear=0.0, perspective=0.0, flipud=0.0, fliplr=0.5, bgr=0.0, mosaic=1.0, mixup=0.0, copy_paste=0.0, copy_paste_mode=flip, auto_augment=randaugment, erasing=0.4, cfg=None, tracker=botsort.yaml, save_dir=runs\\detect\\train4\n",
      "Overriding model.yaml nc=80 with nc=2\n",
      "\n",
      "                   from  n    params  module                                       arguments                     \n",
      "  0                  -1  1      1392  ultralytics.nn.modules.conv.Conv             [3, 48, 3, 2]                 \n",
      "  1                  -1  1     41664  ultralytics.nn.modules.conv.Conv             [48, 96, 3, 2]                \n",
      "  2                  -1  2    111360  ultralytics.nn.modules.block.C2f             [96, 96, 2, True]             \n",
      "  3                  -1  1    166272  ultralytics.nn.modules.conv.Conv             [96, 192, 3, 2]               \n",
      "  4                  -1  4    813312  ultralytics.nn.modules.block.C2f             [192, 192, 4, True]           \n",
      "  5                  -1  1    664320  ultralytics.nn.modules.conv.Conv             [192, 384, 3, 2]              \n",
      "  6                  -1  4   3248640  ultralytics.nn.modules.block.C2f             [384, 384, 4, True]           \n",
      "  7                  -1  1   1991808  ultralytics.nn.modules.conv.Conv             [384, 576, 3, 2]              \n",
      "  8                  -1  2   3985920  ultralytics.nn.modules.block.C2f             [576, 576, 2, True]           \n",
      "  9                  -1  1    831168  ultralytics.nn.modules.block.SPPF            [576, 576, 5]                 \n",
      " 10                  -1  1         0  torch.nn.modules.upsampling.Upsample         [None, 2, 'nearest']          \n",
      " 11             [-1, 6]  1         0  ultralytics.nn.modules.conv.Concat           [1]                           \n",
      " 12                  -1  2   1993728  ultralytics.nn.modules.block.C2f             [960, 384, 2]                 \n",
      " 13                  -1  1         0  torch.nn.modules.upsampling.Upsample         [None, 2, 'nearest']          \n",
      " 14             [-1, 4]  1         0  ultralytics.nn.modules.conv.Concat           [1]                           \n",
      " 15                  -1  2    517632  ultralytics.nn.modules.block.C2f             [576, 192, 2]                 \n",
      " 16                  -1  1    332160  ultralytics.nn.modules.conv.Conv             [192, 192, 3, 2]              \n",
      " 17            [-1, 12]  1         0  ultralytics.nn.modules.conv.Concat           [1]                           \n",
      " 18                  -1  2   1846272  ultralytics.nn.modules.block.C2f             [576, 384, 2]                 \n",
      " 19                  -1  1   1327872  ultralytics.nn.modules.conv.Conv             [384, 384, 3, 2]              \n",
      " 20             [-1, 9]  1         0  ultralytics.nn.modules.conv.Concat           [1]                           \n",
      " 21                  -1  2   4207104  ultralytics.nn.modules.block.C2f             [960, 576, 2]                 \n",
      " 22        [15, 18, 21]  1   3776854  ultralytics.nn.modules.head.Detect           [2, [192, 384, 576]]          \n",
      "Model summary: 169 layers, 25,857,478 parameters, 25,857,462 gradients, 79.1 GFLOPs\n",
      "\n",
      "Transferred 469/475 items from pretrained weights\n",
      "Freezing layer 'model.22.dfl.conv.weight'\n",
      "\u001B[34m\u001B[1mtrain: \u001B[0mFast image access  (ping: 0.10.0 ms, read: 507.1196.9 MB/s, size: 68.7 KB)\n"
     ]
    },
    {
     "name": "stderr",
     "output_type": "stream",
     "text": [
      "\u001B[34m\u001B[1mtrain: \u001B[0mScanning C:\\Users\\oreos\\PycharmProjects\\AlbionBotIA\\train\\labels.cache... 273 images, 0 backgrounds, 0 corrupt: 100%|██████████| 273/273 [00:00<?, ?it/s]"
     ]
    },
    {
     "name": "stdout",
     "output_type": "stream",
     "text": [
      "\u001B[34m\u001B[1mval: \u001B[0mFast image access  (ping: 0.10.0 ms, read: 536.289.8 MB/s, size: 63.8 KB)\n"
     ]
    },
    {
     "name": "stderr",
     "output_type": "stream",
     "text": [
      "\n",
      "\u001B[34m\u001B[1mval: \u001B[0mScanning C:\\Users\\oreos\\PycharmProjects\\AlbionBotIA\\valid\\labels.cache... 27 images, 0 backgrounds, 0 corrupt: 100%|██████████| 27/27 [00:00<?, ?it/s]\n"
     ]
    },
    {
     "name": "stdout",
     "output_type": "stream",
     "text": [
      "Plotting labels to runs\\detect\\train4\\labels.jpg... \n",
      "\u001B[34m\u001B[1moptimizer:\u001B[0m 'optimizer=auto' found, ignoring 'lr0=0.01' and 'momentum=0.937' and determining best 'optimizer', 'lr0' and 'momentum' automatically... \n",
      "\u001B[34m\u001B[1moptimizer:\u001B[0m AdamW(lr=0.001667, momentum=0.9) with parameter groups 77 weight(decay=0.0), 84 weight(decay=0.0005), 83 bias(decay=0.0)\n",
      "Image sizes 640 train, 640 val\n",
      "Using 0 dataloader workers\n",
      "Logging results to \u001B[1mruns\\detect\\train4\u001B[0m\n",
      "Starting training for 50 epochs...\n",
      "\n",
      "      Epoch    GPU_mem   box_loss   cls_loss   dfl_loss  Instances       Size\n"
     ]
    },
    {
     "name": "stderr",
     "output_type": "stream",
     "text": [
      "       1/50         0G      1.634      2.025      1.339         23        640: 100%|██████████| 18/18 [02:53<00:00,  9.63s/it]\n",
      "                 Class     Images  Instances      Box(P          R      mAP50  mAP50-95): 100%|██████████| 1/1 [00:06<00:00,  6.88s/it]"
     ]
    },
    {
     "name": "stdout",
     "output_type": "stream",
     "text": [
      "                   all         27        227       0.64      0.748      0.775      0.465\n"
     ]
    },
    {
     "name": "stderr",
     "output_type": "stream",
     "text": [
      "\n"
     ]
    },
    {
     "name": "stdout",
     "output_type": "stream",
     "text": [
      "\n",
      "      Epoch    GPU_mem   box_loss   cls_loss   dfl_loss  Instances       Size\n"
     ]
    },
    {
     "name": "stderr",
     "output_type": "stream",
     "text": [
      "       2/50         0G      1.337      1.029      1.177         17        640: 100%|██████████| 18/18 [02:49<00:00,  9.41s/it]\n",
      "                 Class     Images  Instances      Box(P          R      mAP50  mAP50-95): 100%|██████████| 1/1 [00:07<00:00,  7.34s/it]"
     ]
    },
    {
     "name": "stdout",
     "output_type": "stream",
     "text": [
      "                   all         27        227      0.854      0.754       0.83      0.529\n"
     ]
    },
    {
     "name": "stderr",
     "output_type": "stream",
     "text": [
      "\n"
     ]
    },
    {
     "name": "stdout",
     "output_type": "stream",
     "text": [
      "\n",
      "      Epoch    GPU_mem   box_loss   cls_loss   dfl_loss  Instances       Size\n"
     ]
    },
    {
     "name": "stderr",
     "output_type": "stream",
     "text": [
      "       3/50         0G      1.258     0.8328      1.209          8        640: 100%|██████████| 18/18 [02:51<00:00,  9.53s/it]\n",
      "                 Class     Images  Instances      Box(P          R      mAP50  mAP50-95): 100%|██████████| 1/1 [00:06<00:00,  6.55s/it]"
     ]
    },
    {
     "name": "stdout",
     "output_type": "stream",
     "text": [
      "                   all         27        227      0.624      0.515      0.598      0.363\n"
     ]
    },
    {
     "name": "stderr",
     "output_type": "stream",
     "text": [
      "\n"
     ]
    },
    {
     "name": "stdout",
     "output_type": "stream",
     "text": [
      "\n",
      "      Epoch    GPU_mem   box_loss   cls_loss   dfl_loss  Instances       Size\n"
     ]
    },
    {
     "name": "stderr",
     "output_type": "stream",
     "text": [
      "       4/50         0G      1.199       0.78      1.158          1        640: 100%|██████████| 18/18 [02:50<00:00,  9.47s/it]\n",
      "                 Class     Images  Instances      Box(P          R      mAP50  mAP50-95): 100%|██████████| 1/1 [00:05<00:00,  5.83s/it]"
     ]
    },
    {
     "name": "stdout",
     "output_type": "stream",
     "text": [
      "                   all         27        227      0.608      0.481       0.54      0.271\n"
     ]
    },
    {
     "name": "stderr",
     "output_type": "stream",
     "text": [
      "\n"
     ]
    },
    {
     "name": "stdout",
     "output_type": "stream",
     "text": [
      "\n",
      "      Epoch    GPU_mem   box_loss   cls_loss   dfl_loss  Instances       Size\n"
     ]
    },
    {
     "name": "stderr",
     "output_type": "stream",
     "text": [
      "       5/50         0G      1.258     0.7127      1.161         15        640: 100%|██████████| 18/18 [02:49<00:00,  9.44s/it]\n",
      "                 Class     Images  Instances      Box(P          R      mAP50  mAP50-95): 100%|██████████| 1/1 [00:05<00:00,  5.81s/it]"
     ]
    },
    {
     "name": "stdout",
     "output_type": "stream",
     "text": [
      "                   all         27        227      0.853      0.786      0.881      0.511\n"
     ]
    },
    {
     "name": "stderr",
     "output_type": "stream",
     "text": [
      "\n"
     ]
    },
    {
     "name": "stdout",
     "output_type": "stream",
     "text": [
      "\n",
      "      Epoch    GPU_mem   box_loss   cls_loss   dfl_loss  Instances       Size\n"
     ]
    },
    {
     "name": "stderr",
     "output_type": "stream",
     "text": [
      "       6/50         0G      1.214     0.7006      1.141         19        640: 100%|██████████| 18/18 [02:48<00:00,  9.38s/it]\n",
      "                 Class     Images  Instances      Box(P          R      mAP50  mAP50-95): 100%|██████████| 1/1 [00:06<00:00,  6.02s/it]"
     ]
    },
    {
     "name": "stdout",
     "output_type": "stream",
     "text": [
      "                   all         27        227      0.652      0.422      0.485      0.228\n"
     ]
    },
    {
     "name": "stderr",
     "output_type": "stream",
     "text": [
      "\n"
     ]
    },
    {
     "name": "stdout",
     "output_type": "stream",
     "text": [
      "\n",
      "      Epoch    GPU_mem   box_loss   cls_loss   dfl_loss  Instances       Size\n"
     ]
    },
    {
     "name": "stderr",
     "output_type": "stream",
     "text": [
      "       7/50         0G      1.206     0.6342      1.117         34        640: 100%|██████████| 18/18 [02:49<00:00,  9.41s/it]\n",
      "                 Class     Images  Instances      Box(P          R      mAP50  mAP50-95): 100%|██████████| 1/1 [00:05<00:00,  5.78s/it]"
     ]
    },
    {
     "name": "stdout",
     "output_type": "stream",
     "text": [
      "                   all         27        227      0.694      0.679      0.693      0.322\n"
     ]
    },
    {
     "name": "stderr",
     "output_type": "stream",
     "text": [
      "\n"
     ]
    },
    {
     "name": "stdout",
     "output_type": "stream",
     "text": [
      "\n",
      "      Epoch    GPU_mem   box_loss   cls_loss   dfl_loss  Instances       Size\n"
     ]
    },
    {
     "name": "stderr",
     "output_type": "stream",
     "text": [
      "       8/50         0G      1.324      0.696      1.278          8        640: 100%|██████████| 18/18 [02:48<00:00,  9.39s/it]\n",
      "                 Class     Images  Instances      Box(P          R      mAP50  mAP50-95): 100%|██████████| 1/1 [00:05<00:00,  5.61s/it]"
     ]
    },
    {
     "name": "stdout",
     "output_type": "stream",
     "text": [
      "                   all         27        227      0.917      0.918      0.943      0.546\n"
     ]
    },
    {
     "name": "stderr",
     "output_type": "stream",
     "text": [
      "\n"
     ]
    },
    {
     "name": "stdout",
     "output_type": "stream",
     "text": [
      "\n",
      "      Epoch    GPU_mem   box_loss   cls_loss   dfl_loss  Instances       Size\n"
     ]
    },
    {
     "name": "stderr",
     "output_type": "stream",
     "text": [
      "       9/50         0G      1.308     0.6718      1.224          4        640: 100%|██████████| 18/18 [02:49<00:00,  9.42s/it]\n",
      "                 Class     Images  Instances      Box(P          R      mAP50  mAP50-95): 100%|██████████| 1/1 [00:05<00:00,  5.76s/it]"
     ]
    },
    {
     "name": "stdout",
     "output_type": "stream",
     "text": [
      "                   all         27        227      0.894      0.809      0.883       0.53\n"
     ]
    },
    {
     "name": "stderr",
     "output_type": "stream",
     "text": [
      "\n"
     ]
    },
    {
     "name": "stdout",
     "output_type": "stream",
     "text": [
      "\n",
      "      Epoch    GPU_mem   box_loss   cls_loss   dfl_loss  Instances       Size\n"
     ]
    },
    {
     "name": "stderr",
     "output_type": "stream",
     "text": [
      "      10/50         0G      1.204     0.5947       1.12         17        640: 100%|██████████| 18/18 [02:49<00:00,  9.39s/it]\n",
      "                 Class     Images  Instances      Box(P          R      mAP50  mAP50-95): 100%|██████████| 1/1 [00:05<00:00,  5.69s/it]"
     ]
    },
    {
     "name": "stdout",
     "output_type": "stream",
     "text": [
      "                   all         27        227      0.936      0.885      0.959      0.585\n"
     ]
    },
    {
     "name": "stderr",
     "output_type": "stream",
     "text": [
      "\n"
     ]
    },
    {
     "name": "stdout",
     "output_type": "stream",
     "text": [
      "\n",
      "      Epoch    GPU_mem   box_loss   cls_loss   dfl_loss  Instances       Size\n"
     ]
    },
    {
     "name": "stderr",
     "output_type": "stream",
     "text": [
      "      11/50         0G      1.198      0.581      1.131         23        640: 100%|██████████| 18/18 [02:49<00:00,  9.40s/it]\n",
      "                 Class     Images  Instances      Box(P          R      mAP50  mAP50-95): 100%|██████████| 1/1 [00:05<00:00,  5.80s/it]"
     ]
    },
    {
     "name": "stdout",
     "output_type": "stream",
     "text": [
      "                   all         27        227      0.935      0.904      0.955      0.593\n"
     ]
    },
    {
     "name": "stderr",
     "output_type": "stream",
     "text": [
      "\n"
     ]
    },
    {
     "name": "stdout",
     "output_type": "stream",
     "text": [
      "\n",
      "      Epoch    GPU_mem   box_loss   cls_loss   dfl_loss  Instances       Size\n"
     ]
    },
    {
     "name": "stderr",
     "output_type": "stream",
     "text": [
      "      12/50         0G      1.148     0.5497      1.129         11        640: 100%|██████████| 18/18 [02:49<00:00,  9.41s/it]\n",
      "                 Class     Images  Instances      Box(P          R      mAP50  mAP50-95): 100%|██████████| 1/1 [00:05<00:00,  5.68s/it]"
     ]
    },
    {
     "name": "stdout",
     "output_type": "stream",
     "text": [
      "                   all         27        227      0.931      0.906      0.963      0.611\n"
     ]
    },
    {
     "name": "stderr",
     "output_type": "stream",
     "text": [
      "\n"
     ]
    },
    {
     "name": "stdout",
     "output_type": "stream",
     "text": [
      "\n",
      "      Epoch    GPU_mem   box_loss   cls_loss   dfl_loss  Instances       Size\n"
     ]
    },
    {
     "name": "stderr",
     "output_type": "stream",
     "text": [
      "      13/50         0G      1.041     0.5054      1.082         11        640: 100%|██████████| 18/18 [02:49<00:00,  9.39s/it]\n",
      "                 Class     Images  Instances      Box(P          R      mAP50  mAP50-95): 100%|██████████| 1/1 [00:05<00:00,  5.83s/it]"
     ]
    },
    {
     "name": "stdout",
     "output_type": "stream",
     "text": [
      "                   all         27        227      0.946       0.95      0.973      0.638\n"
     ]
    },
    {
     "name": "stderr",
     "output_type": "stream",
     "text": [
      "\n"
     ]
    },
    {
     "name": "stdout",
     "output_type": "stream",
     "text": [
      "\n",
      "      Epoch    GPU_mem   box_loss   cls_loss   dfl_loss  Instances       Size\n"
     ]
    },
    {
     "name": "stderr",
     "output_type": "stream",
     "text": [
      "      14/50         0G      1.104      0.525      1.128          3        640: 100%|██████████| 18/18 [02:49<00:00,  9.40s/it]\n",
      "                 Class     Images  Instances      Box(P          R      mAP50  mAP50-95): 100%|██████████| 1/1 [00:05<00:00,  5.68s/it]"
     ]
    },
    {
     "name": "stdout",
     "output_type": "stream",
     "text": [
      "                   all         27        227      0.978      0.919      0.973      0.621\n"
     ]
    },
    {
     "name": "stderr",
     "output_type": "stream",
     "text": [
      "\n"
     ]
    },
    {
     "name": "stdout",
     "output_type": "stream",
     "text": [
      "\n",
      "      Epoch    GPU_mem   box_loss   cls_loss   dfl_loss  Instances       Size\n"
     ]
    },
    {
     "name": "stderr",
     "output_type": "stream",
     "text": [
      "      15/50         0G      1.055     0.5132      1.086          6        640: 100%|██████████| 18/18 [02:49<00:00,  9.40s/it]\n",
      "                 Class     Images  Instances      Box(P          R      mAP50  mAP50-95): 100%|██████████| 1/1 [00:05<00:00,  5.69s/it]"
     ]
    },
    {
     "name": "stdout",
     "output_type": "stream",
     "text": [
      "                   all         27        227      0.927      0.894      0.957      0.609\n"
     ]
    },
    {
     "name": "stderr",
     "output_type": "stream",
     "text": [
      "\n"
     ]
    },
    {
     "name": "stdout",
     "output_type": "stream",
     "text": [
      "\n",
      "      Epoch    GPU_mem   box_loss   cls_loss   dfl_loss  Instances       Size\n"
     ]
    },
    {
     "name": "stderr",
     "output_type": "stream",
     "text": [
      "      16/50         0G      1.071     0.5456       1.09          4        640: 100%|██████████| 18/18 [02:48<00:00,  9.36s/it]\n",
      "                 Class     Images  Instances      Box(P          R      mAP50  mAP50-95): 100%|██████████| 1/1 [00:05<00:00,  5.71s/it]"
     ]
    },
    {
     "name": "stdout",
     "output_type": "stream",
     "text": [
      "                   all         27        227      0.933      0.955      0.969      0.622\n"
     ]
    },
    {
     "name": "stderr",
     "output_type": "stream",
     "text": [
      "\n"
     ]
    },
    {
     "name": "stdout",
     "output_type": "stream",
     "text": [
      "\n",
      "      Epoch    GPU_mem   box_loss   cls_loss   dfl_loss  Instances       Size\n"
     ]
    },
    {
     "name": "stderr",
     "output_type": "stream",
     "text": [
      "      17/50         0G      1.082     0.4995      1.076         10        640: 100%|██████████| 18/18 [02:49<00:00,  9.40s/it]\n",
      "                 Class     Images  Instances      Box(P          R      mAP50  mAP50-95): 100%|██████████| 1/1 [00:05<00:00,  5.73s/it]"
     ]
    },
    {
     "name": "stdout",
     "output_type": "stream",
     "text": [
      "                   all         27        227      0.963      0.949      0.979      0.625\n"
     ]
    },
    {
     "name": "stderr",
     "output_type": "stream",
     "text": [
      "\n"
     ]
    },
    {
     "name": "stdout",
     "output_type": "stream",
     "text": [
      "\n",
      "      Epoch    GPU_mem   box_loss   cls_loss   dfl_loss  Instances       Size\n"
     ]
    },
    {
     "name": "stderr",
     "output_type": "stream",
     "text": [
      "      18/50         0G     0.9948     0.4772      1.029         18        640: 100%|██████████| 18/18 [02:50<00:00,  9.45s/it]\n",
      "                 Class     Images  Instances      Box(P          R      mAP50  mAP50-95): 100%|██████████| 1/1 [00:05<00:00,  5.70s/it]"
     ]
    },
    {
     "name": "stdout",
     "output_type": "stream",
     "text": [
      "                   all         27        227      0.956      0.933      0.962      0.627\n"
     ]
    },
    {
     "name": "stderr",
     "output_type": "stream",
     "text": [
      "\n"
     ]
    },
    {
     "name": "stdout",
     "output_type": "stream",
     "text": [
      "\n",
      "      Epoch    GPU_mem   box_loss   cls_loss   dfl_loss  Instances       Size\n"
     ]
    },
    {
     "name": "stderr",
     "output_type": "stream",
     "text": [
      "      19/50         0G     0.9717     0.4606      1.021         11        640: 100%|██████████| 18/18 [02:49<00:00,  9.41s/it]\n",
      "                 Class     Images  Instances      Box(P          R      mAP50  mAP50-95): 100%|██████████| 1/1 [00:05<00:00,  5.68s/it]"
     ]
    },
    {
     "name": "stdout",
     "output_type": "stream",
     "text": [
      "                   all         27        227       0.95      0.911      0.947      0.616\n"
     ]
    },
    {
     "name": "stderr",
     "output_type": "stream",
     "text": [
      "\n"
     ]
    },
    {
     "name": "stdout",
     "output_type": "stream",
     "text": [
      "\n",
      "      Epoch    GPU_mem   box_loss   cls_loss   dfl_loss  Instances       Size\n"
     ]
    },
    {
     "name": "stderr",
     "output_type": "stream",
     "text": [
      "      20/50         0G          1     0.4703      1.045         20        640: 100%|██████████| 18/18 [02:49<00:00,  9.41s/it]\n",
      "                 Class     Images  Instances      Box(P          R      mAP50  mAP50-95): 100%|██████████| 1/1 [00:05<00:00,  5.67s/it]"
     ]
    },
    {
     "name": "stdout",
     "output_type": "stream",
     "text": [
      "                   all         27        227       0.94      0.939      0.972      0.634\n"
     ]
    },
    {
     "name": "stderr",
     "output_type": "stream",
     "text": [
      "\n"
     ]
    },
    {
     "name": "stdout",
     "output_type": "stream",
     "text": [
      "\n",
      "      Epoch    GPU_mem   box_loss   cls_loss   dfl_loss  Instances       Size\n"
     ]
    },
    {
     "name": "stderr",
     "output_type": "stream",
     "text": [
      "      21/50         0G      1.015     0.4653      1.062         11        640: 100%|██████████| 18/18 [02:49<00:00,  9.39s/it]\n",
      "                 Class     Images  Instances      Box(P          R      mAP50  mAP50-95): 100%|██████████| 1/1 [00:05<00:00,  5.70s/it]"
     ]
    },
    {
     "name": "stdout",
     "output_type": "stream",
     "text": [
      "                   all         27        227      0.937      0.953      0.975      0.628\n"
     ]
    },
    {
     "name": "stderr",
     "output_type": "stream",
     "text": [
      "\n"
     ]
    },
    {
     "name": "stdout",
     "output_type": "stream",
     "text": [
      "\n",
      "      Epoch    GPU_mem   box_loss   cls_loss   dfl_loss  Instances       Size\n"
     ]
    },
    {
     "name": "stderr",
     "output_type": "stream",
     "text": [
      "      22/50         0G     0.9557      0.445      1.043          4        640: 100%|██████████| 18/18 [02:49<00:00,  9.39s/it]\n",
      "                 Class     Images  Instances      Box(P          R      mAP50  mAP50-95): 100%|██████████| 1/1 [00:05<00:00,  5.74s/it]"
     ]
    },
    {
     "name": "stdout",
     "output_type": "stream",
     "text": [
      "                   all         27        227      0.967      0.948      0.981      0.639\n"
     ]
    },
    {
     "name": "stderr",
     "output_type": "stream",
     "text": [
      "\n"
     ]
    },
    {
     "name": "stdout",
     "output_type": "stream",
     "text": [
      "\n",
      "      Epoch    GPU_mem   box_loss   cls_loss   dfl_loss  Instances       Size\n"
     ]
    },
    {
     "name": "stderr",
     "output_type": "stream",
     "text": [
      "      23/50         0G      0.967      0.448      1.015         14        640: 100%|██████████| 18/18 [02:49<00:00,  9.43s/it]\n",
      "                 Class     Images  Instances      Box(P          R      mAP50  mAP50-95): 100%|██████████| 1/1 [00:05<00:00,  5.76s/it]"
     ]
    },
    {
     "name": "stdout",
     "output_type": "stream",
     "text": [
      "                   all         27        227      0.941      0.959      0.971      0.626\n"
     ]
    },
    {
     "name": "stderr",
     "output_type": "stream",
     "text": [
      "\n"
     ]
    },
    {
     "name": "stdout",
     "output_type": "stream",
     "text": [
      "\n",
      "      Epoch    GPU_mem   box_loss   cls_loss   dfl_loss  Instances       Size\n"
     ]
    },
    {
     "name": "stderr",
     "output_type": "stream",
     "text": [
      "      24/50         0G     0.9433     0.4346      1.026         12        640: 100%|██████████| 18/18 [02:49<00:00,  9.42s/it]\n",
      "                 Class     Images  Instances      Box(P          R      mAP50  mAP50-95): 100%|██████████| 1/1 [00:05<00:00,  5.79s/it]"
     ]
    },
    {
     "name": "stdout",
     "output_type": "stream",
     "text": [
      "                   all         27        227      0.947      0.926      0.953      0.618\n"
     ]
    },
    {
     "name": "stderr",
     "output_type": "stream",
     "text": [
      "\n"
     ]
    },
    {
     "name": "stdout",
     "output_type": "stream",
     "text": [
      "\n",
      "      Epoch    GPU_mem   box_loss   cls_loss   dfl_loss  Instances       Size\n"
     ]
    },
    {
     "name": "stderr",
     "output_type": "stream",
     "text": [
      "      25/50         0G     0.9022     0.4293      1.014         19        640: 100%|██████████| 18/18 [02:48<00:00,  9.37s/it]\n",
      "                 Class     Images  Instances      Box(P          R      mAP50  mAP50-95): 100%|██████████| 1/1 [00:05<00:00,  5.67s/it]"
     ]
    },
    {
     "name": "stdout",
     "output_type": "stream",
     "text": [
      "                   all         27        227      0.951      0.936      0.963      0.624\n"
     ]
    },
    {
     "name": "stderr",
     "output_type": "stream",
     "text": [
      "\n"
     ]
    },
    {
     "name": "stdout",
     "output_type": "stream",
     "text": [
      "\n",
      "      Epoch    GPU_mem   box_loss   cls_loss   dfl_loss  Instances       Size\n"
     ]
    },
    {
     "name": "stderr",
     "output_type": "stream",
     "text": [
      "      26/50         0G     0.8746     0.4141          1         26        640: 100%|██████████| 18/18 [02:49<00:00,  9.44s/it]\n",
      "                 Class     Images  Instances      Box(P          R      mAP50  mAP50-95): 100%|██████████| 1/1 [00:05<00:00,  5.73s/it]"
     ]
    },
    {
     "name": "stdout",
     "output_type": "stream",
     "text": [
      "                   all         27        227      0.948      0.956      0.978      0.656\n"
     ]
    },
    {
     "name": "stderr",
     "output_type": "stream",
     "text": [
      "\n"
     ]
    },
    {
     "name": "stdout",
     "output_type": "stream",
     "text": [
      "\n",
      "      Epoch    GPU_mem   box_loss   cls_loss   dfl_loss  Instances       Size\n"
     ]
    },
    {
     "name": "stderr",
     "output_type": "stream",
     "text": [
      "      27/50         0G     0.8803     0.4186     0.9932         10        640: 100%|██████████| 18/18 [02:49<00:00,  9.40s/it]\n",
      "                 Class     Images  Instances      Box(P          R      mAP50  mAP50-95): 100%|██████████| 1/1 [00:05<00:00,  5.67s/it]"
     ]
    },
    {
     "name": "stdout",
     "output_type": "stream",
     "text": [
      "                   all         27        227      0.938      0.963      0.974      0.632\n"
     ]
    },
    {
     "name": "stderr",
     "output_type": "stream",
     "text": [
      "\n"
     ]
    },
    {
     "name": "stdout",
     "output_type": "stream",
     "text": [
      "\n",
      "      Epoch    GPU_mem   box_loss   cls_loss   dfl_loss  Instances       Size\n"
     ]
    },
    {
     "name": "stderr",
     "output_type": "stream",
     "text": [
      "      28/50         0G     0.8639     0.4175     0.9853          7        640: 100%|██████████| 18/18 [02:49<00:00,  9.41s/it]\n",
      "                 Class     Images  Instances      Box(P          R      mAP50  mAP50-95): 100%|██████████| 1/1 [00:05<00:00,  5.72s/it]"
     ]
    },
    {
     "name": "stdout",
     "output_type": "stream",
     "text": [
      "                   all         27        227      0.967      0.952      0.977      0.648\n"
     ]
    },
    {
     "name": "stderr",
     "output_type": "stream",
     "text": [
      "\n"
     ]
    },
    {
     "name": "stdout",
     "output_type": "stream",
     "text": [
      "\n",
      "      Epoch    GPU_mem   box_loss   cls_loss   dfl_loss  Instances       Size\n"
     ]
    },
    {
     "name": "stderr",
     "output_type": "stream",
     "text": [
      "      29/50         0G       0.87     0.4022     0.9867         17        640: 100%|██████████| 18/18 [02:49<00:00,  9.40s/it]\n",
      "                 Class     Images  Instances      Box(P          R      mAP50  mAP50-95): 100%|██████████| 1/1 [00:05<00:00,  5.64s/it]"
     ]
    },
    {
     "name": "stdout",
     "output_type": "stream",
     "text": [
      "                   all         27        227      0.952       0.97      0.975      0.651\n"
     ]
    },
    {
     "name": "stderr",
     "output_type": "stream",
     "text": [
      "\n"
     ]
    },
    {
     "name": "stdout",
     "output_type": "stream",
     "text": [
      "\n",
      "      Epoch    GPU_mem   box_loss   cls_loss   dfl_loss  Instances       Size\n"
     ]
    },
    {
     "name": "stderr",
     "output_type": "stream",
     "text": [
      "      30/50         0G      0.849     0.3989     0.9907          4        640: 100%|██████████| 18/18 [02:49<00:00,  9.41s/it]\n",
      "                 Class     Images  Instances      Box(P          R      mAP50  mAP50-95): 100%|██████████| 1/1 [00:05<00:00,  5.76s/it]"
     ]
    },
    {
     "name": "stdout",
     "output_type": "stream",
     "text": [
      "                   all         27        227      0.962      0.946      0.967      0.634\n"
     ]
    },
    {
     "name": "stderr",
     "output_type": "stream",
     "text": [
      "\n"
     ]
    },
    {
     "name": "stdout",
     "output_type": "stream",
     "text": [
      "\n",
      "      Epoch    GPU_mem   box_loss   cls_loss   dfl_loss  Instances       Size\n"
     ]
    },
    {
     "name": "stderr",
     "output_type": "stream",
     "text": [
      "      31/50         0G     0.8338     0.4057      1.014          5        640: 100%|██████████| 18/18 [02:49<00:00,  9.43s/it]\n",
      "                 Class     Images  Instances      Box(P          R      mAP50  mAP50-95): 100%|██████████| 1/1 [00:05<00:00,  5.73s/it]"
     ]
    },
    {
     "name": "stdout",
     "output_type": "stream",
     "text": [
      "                   all         27        227      0.963       0.94      0.972      0.626\n"
     ]
    },
    {
     "name": "stderr",
     "output_type": "stream",
     "text": [
      "\n"
     ]
    },
    {
     "name": "stdout",
     "output_type": "stream",
     "text": [
      "\n",
      "      Epoch    GPU_mem   box_loss   cls_loss   dfl_loss  Instances       Size\n"
     ]
    },
    {
     "name": "stderr",
     "output_type": "stream",
     "text": [
      "      32/50         0G     0.7849     0.3708     0.9795          6        640: 100%|██████████| 18/18 [02:48<00:00,  9.39s/it]\n",
      "                 Class     Images  Instances      Box(P          R      mAP50  mAP50-95): 100%|██████████| 1/1 [00:05<00:00,  5.77s/it]"
     ]
    },
    {
     "name": "stdout",
     "output_type": "stream",
     "text": [
      "                   all         27        227      0.954      0.939      0.981      0.622\n"
     ]
    },
    {
     "name": "stderr",
     "output_type": "stream",
     "text": [
      "\n"
     ]
    },
    {
     "name": "stdout",
     "output_type": "stream",
     "text": [
      "\n",
      "      Epoch    GPU_mem   box_loss   cls_loss   dfl_loss  Instances       Size\n"
     ]
    },
    {
     "name": "stderr",
     "output_type": "stream",
     "text": [
      "      33/50         0G     0.7838     0.3994     0.9587          8        640: 100%|██████████| 18/18 [02:49<00:00,  9.40s/it]\n",
      "                 Class     Images  Instances      Box(P          R      mAP50  mAP50-95): 100%|██████████| 1/1 [00:05<00:00,  5.86s/it]"
     ]
    },
    {
     "name": "stdout",
     "output_type": "stream",
     "text": [
      "                   all         27        227      0.954      0.964      0.976      0.625\n"
     ]
    },
    {
     "name": "stderr",
     "output_type": "stream",
     "text": [
      "\n"
     ]
    },
    {
     "name": "stdout",
     "output_type": "stream",
     "text": [
      "\n",
      "      Epoch    GPU_mem   box_loss   cls_loss   dfl_loss  Instances       Size\n"
     ]
    },
    {
     "name": "stderr",
     "output_type": "stream",
     "text": [
      "      34/50         0G     0.7705     0.3722      0.941         14        640: 100%|██████████| 18/18 [02:49<00:00,  9.40s/it]\n",
      "                 Class     Images  Instances      Box(P          R      mAP50  mAP50-95): 100%|██████████| 1/1 [00:05<00:00,  5.74s/it]"
     ]
    },
    {
     "name": "stdout",
     "output_type": "stream",
     "text": [
      "                   all         27        227      0.948       0.96      0.976      0.632\n"
     ]
    },
    {
     "name": "stderr",
     "output_type": "stream",
     "text": [
      "\n"
     ]
    },
    {
     "name": "stdout",
     "output_type": "stream",
     "text": [
      "\n",
      "      Epoch    GPU_mem   box_loss   cls_loss   dfl_loss  Instances       Size\n"
     ]
    },
    {
     "name": "stderr",
     "output_type": "stream",
     "text": [
      "      35/50         0G     0.7546     0.3568     0.9432          7        640: 100%|██████████| 18/18 [02:49<00:00,  9.42s/it]\n",
      "                 Class     Images  Instances      Box(P          R      mAP50  mAP50-95): 100%|██████████| 1/1 [00:05<00:00,  5.71s/it]"
     ]
    },
    {
     "name": "stdout",
     "output_type": "stream",
     "text": [
      "                   all         27        227      0.941      0.965      0.976       0.63\n"
     ]
    },
    {
     "name": "stderr",
     "output_type": "stream",
     "text": [
      "\n"
     ]
    },
    {
     "name": "stdout",
     "output_type": "stream",
     "text": [
      "\n",
      "      Epoch    GPU_mem   box_loss   cls_loss   dfl_loss  Instances       Size\n"
     ]
    },
    {
     "name": "stderr",
     "output_type": "stream",
     "text": [
      "      36/50         0G       0.71     0.3435     0.9418          7        640: 100%|██████████| 18/18 [02:49<00:00,  9.39s/it]\n",
      "                 Class     Images  Instances      Box(P          R      mAP50  mAP50-95): 100%|██████████| 1/1 [00:05<00:00,  5.68s/it]"
     ]
    },
    {
     "name": "stdout",
     "output_type": "stream",
     "text": [
      "                   all         27        227      0.917       0.97      0.968      0.632\n"
     ]
    },
    {
     "name": "stderr",
     "output_type": "stream",
     "text": [
      "\n"
     ]
    },
    {
     "name": "stdout",
     "output_type": "stream",
     "text": [
      "\n",
      "      Epoch    GPU_mem   box_loss   cls_loss   dfl_loss  Instances       Size\n"
     ]
    },
    {
     "name": "stderr",
     "output_type": "stream",
     "text": [
      "      37/50         0G     0.7487     0.3763     0.9638         11        640: 100%|██████████| 18/18 [02:49<00:00,  9.39s/it]\n",
      "                 Class     Images  Instances      Box(P          R      mAP50  mAP50-95): 100%|██████████| 1/1 [00:05<00:00,  5.79s/it]"
     ]
    },
    {
     "name": "stdout",
     "output_type": "stream",
     "text": [
      "                   all         27        227      0.957      0.939      0.977      0.639\n"
     ]
    },
    {
     "name": "stderr",
     "output_type": "stream",
     "text": [
      "\n"
     ]
    },
    {
     "name": "stdout",
     "output_type": "stream",
     "text": [
      "\n",
      "      Epoch    GPU_mem   box_loss   cls_loss   dfl_loss  Instances       Size\n"
     ]
    },
    {
     "name": "stderr",
     "output_type": "stream",
     "text": [
      "      38/50         0G     0.7281     0.3558     0.9516          1        640: 100%|██████████| 18/18 [02:49<00:00,  9.42s/it]\n",
      "                 Class     Images  Instances      Box(P          R      mAP50  mAP50-95): 100%|██████████| 1/1 [00:05<00:00,  5.70s/it]"
     ]
    },
    {
     "name": "stdout",
     "output_type": "stream",
     "text": [
      "                   all         27        227      0.946       0.97      0.979      0.634\n"
     ]
    },
    {
     "name": "stderr",
     "output_type": "stream",
     "text": [
      "\n"
     ]
    },
    {
     "name": "stdout",
     "output_type": "stream",
     "text": [
      "\n",
      "      Epoch    GPU_mem   box_loss   cls_loss   dfl_loss  Instances       Size\n"
     ]
    },
    {
     "name": "stderr",
     "output_type": "stream",
     "text": [
      "      39/50         0G      0.745     0.3509     0.9466          3        640: 100%|██████████| 18/18 [02:50<00:00,  9.50s/it]\n",
      "                 Class     Images  Instances      Box(P          R      mAP50  mAP50-95): 100%|██████████| 1/1 [00:05<00:00,  5.76s/it]"
     ]
    },
    {
     "name": "stdout",
     "output_type": "stream",
     "text": [
      "                   all         27        227      0.971      0.953       0.98      0.643\n"
     ]
    },
    {
     "name": "stderr",
     "output_type": "stream",
     "text": [
      "\n"
     ]
    },
    {
     "name": "stdout",
     "output_type": "stream",
     "text": [
      "\n",
      "      Epoch    GPU_mem   box_loss   cls_loss   dfl_loss  Instances       Size\n"
     ]
    },
    {
     "name": "stderr",
     "output_type": "stream",
     "text": [
      "      40/50         0G      0.696     0.3288     0.9067         15        640: 100%|██████████| 18/18 [02:50<00:00,  9.48s/it]\n",
      "                 Class     Images  Instances      Box(P          R      mAP50  mAP50-95): 100%|██████████| 1/1 [00:05<00:00,  5.82s/it]"
     ]
    },
    {
     "name": "stdout",
     "output_type": "stream",
     "text": [
      "                   all         27        227      0.979      0.944      0.981      0.648\n"
     ]
    },
    {
     "name": "stderr",
     "output_type": "stream",
     "text": [
      "\n"
     ]
    },
    {
     "name": "stdout",
     "output_type": "stream",
     "text": [
      "Closing dataloader mosaic\n",
      "\n",
      "      Epoch    GPU_mem   box_loss   cls_loss   dfl_loss  Instances       Size\n"
     ]
    },
    {
     "name": "stderr",
     "output_type": "stream",
     "text": [
      "      41/50         0G     0.7307     0.5337      1.025          2        640: 100%|██████████| 18/18 [02:51<00:00,  9.53s/it]\n",
      "                 Class     Images  Instances      Box(P          R      mAP50  mAP50-95): 100%|██████████| 1/1 [00:05<00:00,  5.93s/it]"
     ]
    },
    {
     "name": "stdout",
     "output_type": "stream",
     "text": [
      "                   all         27        227      0.965       0.97      0.981      0.647\n"
     ]
    },
    {
     "name": "stderr",
     "output_type": "stream",
     "text": [
      "\n"
     ]
    },
    {
     "name": "stdout",
     "output_type": "stream",
     "text": [
      "\n",
      "      Epoch    GPU_mem   box_loss   cls_loss   dfl_loss  Instances       Size\n"
     ]
    },
    {
     "name": "stderr",
     "output_type": "stream",
     "text": [
      "      42/50         0G     0.6706     0.3919      1.017          2        640: 100%|██████████| 18/18 [02:51<00:00,  9.55s/it]\n",
      "                 Class     Images  Instances      Box(P          R      mAP50  mAP50-95): 100%|██████████| 1/1 [00:05<00:00,  5.88s/it]"
     ]
    },
    {
     "name": "stdout",
     "output_type": "stream",
     "text": [
      "                   all         27        227       0.98      0.957      0.979      0.638\n"
     ]
    },
    {
     "name": "stderr",
     "output_type": "stream",
     "text": [
      "\n"
     ]
    },
    {
     "name": "stdout",
     "output_type": "stream",
     "text": [
      "\n",
      "      Epoch    GPU_mem   box_loss   cls_loss   dfl_loss  Instances       Size\n"
     ]
    },
    {
     "name": "stderr",
     "output_type": "stream",
     "text": [
      "      43/50         0G     0.6113     0.2908     0.9223         11        640: 100%|██████████| 18/18 [02:51<00:00,  9.52s/it]\n",
      "                 Class     Images  Instances      Box(P          R      mAP50  mAP50-95): 100%|██████████| 1/1 [00:05<00:00,  5.90s/it]"
     ]
    },
    {
     "name": "stdout",
     "output_type": "stream",
     "text": [
      "                   all         27        227      0.963      0.957      0.979      0.646\n"
     ]
    },
    {
     "name": "stderr",
     "output_type": "stream",
     "text": [
      "\n"
     ]
    },
    {
     "name": "stdout",
     "output_type": "stream",
     "text": [
      "\n",
      "      Epoch    GPU_mem   box_loss   cls_loss   dfl_loss  Instances       Size\n"
     ]
    },
    {
     "name": "stderr",
     "output_type": "stream",
     "text": [
      "      44/50         0G     0.5717     0.2835     0.8929          8        640: 100%|██████████| 18/18 [02:51<00:00,  9.52s/it]\n",
      "                 Class     Images  Instances      Box(P          R      mAP50  mAP50-95): 100%|██████████| 1/1 [00:05<00:00,  5.94s/it]"
     ]
    },
    {
     "name": "stdout",
     "output_type": "stream",
     "text": [
      "                   all         27        227      0.955      0.958      0.975      0.639\n"
     ]
    },
    {
     "name": "stderr",
     "output_type": "stream",
     "text": [
      "\n"
     ]
    },
    {
     "name": "stdout",
     "output_type": "stream",
     "text": [
      "\n",
      "      Epoch    GPU_mem   box_loss   cls_loss   dfl_loss  Instances       Size\n"
     ]
    },
    {
     "name": "stderr",
     "output_type": "stream",
     "text": [
      "      45/50         0G     0.5864     0.2842     0.9167         13        640: 100%|██████████| 18/18 [02:51<00:00,  9.51s/it]\n",
      "                 Class     Images  Instances      Box(P          R      mAP50  mAP50-95): 100%|██████████| 1/1 [00:05<00:00,  5.88s/it]"
     ]
    },
    {
     "name": "stdout",
     "output_type": "stream",
     "text": [
      "                   all         27        227      0.959      0.969      0.975       0.64\n"
     ]
    },
    {
     "name": "stderr",
     "output_type": "stream",
     "text": [
      "\n"
     ]
    },
    {
     "name": "stdout",
     "output_type": "stream",
     "text": [
      "\n",
      "      Epoch    GPU_mem   box_loss   cls_loss   dfl_loss  Instances       Size\n"
     ]
    },
    {
     "name": "stderr",
     "output_type": "stream",
     "text": [
      "      46/50         0G      0.563     0.2741     0.9047          1        640: 100%|██████████| 18/18 [02:51<00:00,  9.51s/it]\n",
      "                 Class     Images  Instances      Box(P          R      mAP50  mAP50-95): 100%|██████████| 1/1 [00:05<00:00,  5.87s/it]"
     ]
    },
    {
     "name": "stdout",
     "output_type": "stream",
     "text": [
      "                   all         27        227      0.939      0.975      0.978      0.652\n"
     ]
    },
    {
     "name": "stderr",
     "output_type": "stream",
     "text": [
      "\n"
     ]
    },
    {
     "name": "stdout",
     "output_type": "stream",
     "text": [
      "\n",
      "      Epoch    GPU_mem   box_loss   cls_loss   dfl_loss  Instances       Size\n"
     ]
    },
    {
     "name": "stderr",
     "output_type": "stream",
     "text": [
      "      47/50         0G     0.5196     0.2598     0.8804          1        640: 100%|██████████| 18/18 [02:51<00:00,  9.53s/it]\n",
      "                 Class     Images  Instances      Box(P          R      mAP50  mAP50-95): 100%|██████████| 1/1 [00:05<00:00,  5.89s/it]"
     ]
    },
    {
     "name": "stdout",
     "output_type": "stream",
     "text": [
      "                   all         27        227      0.947      0.969      0.979      0.652\n"
     ]
    },
    {
     "name": "stderr",
     "output_type": "stream",
     "text": [
      "\n"
     ]
    },
    {
     "name": "stdout",
     "output_type": "stream",
     "text": [
      "\n",
      "      Epoch    GPU_mem   box_loss   cls_loss   dfl_loss  Instances       Size\n"
     ]
    },
    {
     "name": "stderr",
     "output_type": "stream",
     "text": [
      "      48/50         0G     0.5235     0.2592      0.879          3        640: 100%|██████████| 18/18 [02:51<00:00,  9.52s/it]\n",
      "                 Class     Images  Instances      Box(P          R      mAP50  mAP50-95): 100%|██████████| 1/1 [00:05<00:00,  5.90s/it]"
     ]
    },
    {
     "name": "stdout",
     "output_type": "stream",
     "text": [
      "                   all         27        227      0.948      0.969      0.977      0.656\n"
     ]
    },
    {
     "name": "stderr",
     "output_type": "stream",
     "text": [
      "\n"
     ]
    },
    {
     "name": "stdout",
     "output_type": "stream",
     "text": [
      "\n",
      "      Epoch    GPU_mem   box_loss   cls_loss   dfl_loss  Instances       Size\n"
     ]
    },
    {
     "name": "stderr",
     "output_type": "stream",
     "text": [
      "      49/50         0G     0.5333     0.2532      0.889          1        640: 100%|██████████| 18/18 [02:51<00:00,  9.50s/it]\n",
      "                 Class     Images  Instances      Box(P          R      mAP50  mAP50-95): 100%|██████████| 1/1 [00:05<00:00,  5.96s/it]"
     ]
    },
    {
     "name": "stdout",
     "output_type": "stream",
     "text": [
      "                   all         27        227       0.95      0.969      0.976      0.648\n"
     ]
    },
    {
     "name": "stderr",
     "output_type": "stream",
     "text": [
      "\n"
     ]
    },
    {
     "name": "stdout",
     "output_type": "stream",
     "text": [
      "\n",
      "      Epoch    GPU_mem   box_loss   cls_loss   dfl_loss  Instances       Size\n"
     ]
    },
    {
     "name": "stderr",
     "output_type": "stream",
     "text": [
      "      50/50         0G     0.4967     0.2557     0.8736         10        640: 100%|██████████| 18/18 [02:51<00:00,  9.51s/it]\n",
      "                 Class     Images  Instances      Box(P          R      mAP50  mAP50-95): 100%|██████████| 1/1 [00:05<00:00,  5.88s/it]"
     ]
    },
    {
     "name": "stdout",
     "output_type": "stream",
     "text": [
      "                   all         27        227      0.962      0.965      0.976      0.655\n"
     ]
    },
    {
     "name": "stderr",
     "output_type": "stream",
     "text": [
      "\n"
     ]
    },
    {
     "name": "stdout",
     "output_type": "stream",
     "text": [
      "\n",
      "50 epochs completed in 2.448 hours.\n",
      "Optimizer stripped from runs\\detect\\train4\\weights\\last.pt, 52.0MB\n",
      "Optimizer stripped from runs\\detect\\train4\\weights\\best.pt, 52.0MB\n",
      "\n",
      "Validating runs\\detect\\train4\\weights\\best.pt...\n",
      "Ultralytics 8.3.112  Python-3.13.3 torch-2.6.0+cpu CPU (AMD Ryzen 5 7600 6-Core Processor)\n",
      "Model summary (fused): 92 layers, 25,840,918 parameters, 0 gradients, 78.7 GFLOPs\n"
     ]
    },
    {
     "name": "stderr",
     "output_type": "stream",
     "text": [
      "                 Class     Images  Instances      Box(P          R      mAP50  mAP50-95): 100%|██████████| 1/1 [00:05<00:00,  5.44s/it]\n"
     ]
    },
    {
     "name": "stdout",
     "output_type": "stream",
     "text": [
      "                   all         27        227      0.948      0.969      0.977      0.656\n",
      "          broken stone         16         71      0.969      0.958      0.974      0.626\n",
      "                 stone         27        156      0.927      0.981       0.98      0.686\n",
      "Speed: 0.7ms preprocess, 197.2ms inference, 0.0ms loss, 0.1ms postprocess per image\n",
      "Results saved to \u001B[1mruns\\detect\\train4\u001B[0m\n"
     ]
    }
   ],
   "execution_count": 2
  },
  {
   "cell_type": "markdown",
   "metadata": {},
   "source": [
    "# Inferência"
   ]
  },
  {
   "cell_type": "code",
   "metadata": {
    "ExecuteTime": {
     "end_time": "2025-04-21T21:39:20.001972Z",
     "start_time": "2025-04-21T21:39:19.947660Z"
    }
   },
   "source": [
    "# selecionar a melhor versão do modelo fine-tuned\n",
    "model = YOLO(\"runs/detect/train4/weights/best.pt\")"
   ],
   "outputs": [],
   "execution_count": 3
  },
  {
   "cell_type": "code",
   "metadata": {
    "ExecuteTime": {
     "end_time": "2025-04-21T21:54:09.666882Z",
     "start_time": "2025-04-21T21:54:06.679845Z"
    }
   },
   "source": [
    "# prever em novas imagens\n",
    "confidence_level = 0.1\n",
    "input_path = 'Albion-Bot-4/test/images'\n",
    "output_path = 'detections'\n",
    "class_names = model.names\n",
    "\n",
    "\n",
    "for file in os.listdir(input_path):\n",
    "    if file.lower().endswith((\".jpg\")):\n",
    "        image = cv2.imread(os.path.join(input_path, file))\n",
    "        results = model.predict(source=image, conf=confidence_level)  # gerar previsões acima de determinada confiança, e guardar imagens\n",
    "\n",
    "        \n",
    "        output_filename = f\"prediction_{file}\"\n",
    "        output_filepath = os.path.join(output_path, output_filename)\n",
    "\n",
    "        for result in results:\n",
    "            result.save(filename=output_filepath)\n",
    "            print(\"==== Resultados Previsão ====\")\n",
    "            print(\"Imagem: \"+os.path.join(input_path, file))\n",
    "            boxes = result.boxes.xyxy.cpu().numpy()  # Bounding boxes (x_min, y_min, x_max, y_max)\n",
    "            scores = result.boxes.conf.cpu().numpy()  # Score de confiança\n",
    "            labels = result.boxes.cls.cpu().numpy()  # Índice da classe\n",
    "\n",
    "            for i in range(len(boxes)):\n",
    "                class_id = labels[i]\n",
    "                class_label = class_names[class_id] if class_id in class_names else \"Desconhecido\"\n",
    "\n",
    "                print(f\"--- Objeto {i+1} ---\")\n",
    "                print(f\"Class: {class_label} (ID: {class_id})\")\n",
    "                print(f\"Coordenadas Bounding Box: {boxes[i]}\")\n",
    "                print(f\"Confiança: {scores[i]:.4f}\")\n",
    "                print(\"-------------------\")\n",
    "\n",
    "            print(\"\\n\")"
   ],
   "outputs": [
    {
     "name": "stdout",
     "output_type": "stream",
     "text": [
      "\n",
      "0: 640x640 3 stones, 210.6ms\n",
      "Speed: 2.1ms preprocess, 210.6ms inference, 1.6ms postprocess per image at shape (1, 3, 640, 640)\n",
      "==== Resultados Previsão ====\n",
      "Imagem: Albion-Bot-4/test/images\\06243e32-db52-11ee-a9de-d85ed382ee6b_jpg.rf.23ddb4a1fede1eb996cde92b9237e2fd.jpg\n",
      "--- Objeto 1 ---\n",
      "Class: stone (ID: 1.0)\n",
      "Coordenadas Bounding Box: [     311.43      451.87      350.13      501.36]\n",
      "Confiança: 0.9019\n",
      "-------------------\n",
      "--- Objeto 2 ---\n",
      "Class: stone (ID: 1.0)\n",
      "Coordenadas Bounding Box: [     243.19      267.43      285.06      324.23]\n",
      "Confiança: 0.9017\n",
      "-------------------\n",
      "--- Objeto 3 ---\n",
      "Class: stone (ID: 1.0)\n",
      "Coordenadas Bounding Box: [     259.12       89.14      284.46      126.71]\n",
      "Confiança: 0.8850\n",
      "-------------------\n",
      "\n",
      "\n",
      "\n",
      "0: 640x640 3 stones, 190.8ms\n",
      "Speed: 0.9ms preprocess, 190.8ms inference, 0.5ms postprocess per image at shape (1, 3, 640, 640)\n",
      "==== Resultados Previsão ====\n",
      "Imagem: Albion-Bot-4/test/images\\09b5081c-db52-11ee-838f-d85ed382ee6b_jpg.rf.c9e69ee4786b65ba9e0c3d791405bda8.jpg\n",
      "--- Objeto 1 ---\n",
      "Class: stone (ID: 1.0)\n",
      "Coordenadas Bounding Box: [     475.25      101.44      505.91      151.26]\n",
      "Confiança: 0.9112\n",
      "-------------------\n",
      "--- Objeto 2 ---\n",
      "Class: stone (ID: 1.0)\n",
      "Coordenadas Bounding Box: [     401.89      46.186      434.41      86.385]\n",
      "Confiança: 0.9051\n",
      "-------------------\n",
      "--- Objeto 3 ---\n",
      "Class: stone (ID: 1.0)\n",
      "Coordenadas Bounding Box: [     320.84      175.72      346.06      217.39]\n",
      "Confiança: 0.8841\n",
      "-------------------\n",
      "\n",
      "\n",
      "\n",
      "0: 640x640 1 stone, 184.9ms\n",
      "Speed: 0.8ms preprocess, 184.9ms inference, 0.5ms postprocess per image at shape (1, 3, 640, 640)\n",
      "==== Resultados Previsão ====\n",
      "Imagem: Albion-Bot-4/test/images\\3a9160e1-dd96-11ee-bbae-d85ed382ee6b_jpg.rf.cafc62b43a8e504800fce56d1311efce.jpg\n",
      "--- Objeto 1 ---\n",
      "Class: stone (ID: 1.0)\n",
      "Coordenadas Bounding Box: [     172.16      127.46      208.84       170.8]\n",
      "Confiança: 0.9041\n",
      "-------------------\n",
      "\n",
      "\n",
      "\n",
      "0: 640x640 1 stone, 181.9ms\n",
      "Speed: 0.7ms preprocess, 181.9ms inference, 0.5ms postprocess per image at shape (1, 3, 640, 640)\n",
      "==== Resultados Previsão ====\n",
      "Imagem: Albion-Bot-4/test/images\\3b0fe36d-dd96-11ee-adad-d85ed382ee6b_jpg.rf.e134a5d7deb66b82db151f6efde5945c.jpg\n",
      "--- Objeto 1 ---\n",
      "Class: stone (ID: 1.0)\n",
      "Coordenadas Bounding Box: [     212.68       170.6      250.81       215.5]\n",
      "Confiança: 0.9068\n",
      "-------------------\n",
      "\n",
      "\n",
      "\n",
      "0: 640x640 4 broken stones, 7 stones, 194.0ms\n",
      "Speed: 0.8ms preprocess, 194.0ms inference, 0.5ms postprocess per image at shape (1, 3, 640, 640)\n",
      "==== Resultados Previsão ====\n",
      "Imagem: Albion-Bot-4/test/images\\Captura-de-ecra-2025-04-07-182347_png.rf.228a00b589c9d36344073459e8a73ab1.jpg\n",
      "--- Objeto 1 ---\n",
      "Class: broken stone (ID: 0.0)\n",
      "Coordenadas Bounding Box: [      352.9      97.398      437.82      159.69]\n",
      "Confiança: 0.9328\n",
      "-------------------\n",
      "--- Objeto 2 ---\n",
      "Class: stone (ID: 1.0)\n",
      "Coordenadas Bounding Box: [      271.4       64.84      368.83      126.72]\n",
      "Confiança: 0.9189\n",
      "-------------------\n",
      "--- Objeto 3 ---\n",
      "Class: broken stone (ID: 0.0)\n",
      "Coordenadas Bounding Box: [     253.13      345.86      344.29      444.99]\n",
      "Confiança: 0.9172\n",
      "-------------------\n",
      "--- Objeto 4 ---\n",
      "Class: broken stone (ID: 0.0)\n",
      "Coordenadas Bounding Box: [     181.84      282.68      284.83      363.92]\n",
      "Confiança: 0.9097\n",
      "-------------------\n",
      "--- Objeto 5 ---\n",
      "Class: stone (ID: 1.0)\n",
      "Coordenadas Bounding Box: [     368.96      382.93      473.69      473.78]\n",
      "Confiança: 0.9096\n",
      "-------------------\n",
      "--- Objeto 6 ---\n",
      "Class: stone (ID: 1.0)\n",
      "Coordenadas Bounding Box: [     71.087      51.948      148.13      107.85]\n",
      "Confiança: 0.9006\n",
      "-------------------\n",
      "--- Objeto 7 ---\n",
      "Class: stone (ID: 1.0)\n",
      "Coordenadas Bounding Box: [          0      119.45      68.912      193.94]\n",
      "Confiança: 0.8555\n",
      "-------------------\n",
      "--- Objeto 8 ---\n",
      "Class: stone (ID: 1.0)\n",
      "Coordenadas Bounding Box: [    0.61006      404.65       91.42      515.22]\n",
      "Confiança: 0.8272\n",
      "-------------------\n",
      "--- Objeto 9 ---\n",
      "Class: broken stone (ID: 0.0)\n",
      "Coordenadas Bounding Box: [     275.74      232.48      379.27      322.15]\n",
      "Confiança: 0.6949\n",
      "-------------------\n",
      "--- Objeto 10 ---\n",
      "Class: stone (ID: 1.0)\n",
      "Coordenadas Bounding Box: [     24.145      530.77      123.28         640]\n",
      "Confiança: 0.6796\n",
      "-------------------\n",
      "--- Objeto 11 ---\n",
      "Class: stone (ID: 1.0)\n",
      "Coordenadas Bounding Box: [     462.54      82.505       528.2         153]\n",
      "Confiança: 0.4867\n",
      "-------------------\n",
      "\n",
      "\n",
      "\n",
      "0: 640x640 5 broken stones, 6 stones, 197.9ms\n",
      "Speed: 0.9ms preprocess, 197.9ms inference, 0.5ms postprocess per image at shape (1, 3, 640, 640)\n",
      "==== Resultados Previsão ====\n",
      "Imagem: Albion-Bot-4/test/images\\Captura-de-ecra-2025-04-07-184833_png.rf.0b113893c1de2a75ec9ff2673adfedea.jpg\n",
      "--- Objeto 1 ---\n",
      "Class: broken stone (ID: 0.0)\n",
      "Coordenadas Bounding Box: [     510.55      290.13      558.58      347.64]\n",
      "Confiança: 0.9288\n",
      "-------------------\n",
      "--- Objeto 2 ---\n",
      "Class: stone (ID: 1.0)\n",
      "Coordenadas Bounding Box: [     256.42      123.06      299.75      176.46]\n",
      "Confiança: 0.9205\n",
      "-------------------\n",
      "--- Objeto 3 ---\n",
      "Class: stone (ID: 1.0)\n",
      "Coordenadas Bounding Box: [     84.196       406.8      136.98      486.78]\n",
      "Confiança: 0.9190\n",
      "-------------------\n",
      "--- Objeto 4 ---\n",
      "Class: broken stone (ID: 0.0)\n",
      "Coordenadas Bounding Box: [     292.58      388.48      353.22       462.4]\n",
      "Confiança: 0.9170\n",
      "-------------------\n",
      "--- Objeto 5 ---\n",
      "Class: broken stone (ID: 0.0)\n",
      "Coordenadas Bounding Box: [     234.16      360.77      281.08       437.5]\n",
      "Confiança: 0.9155\n",
      "-------------------\n",
      "--- Objeto 6 ---\n",
      "Class: stone (ID: 1.0)\n",
      "Coordenadas Bounding Box: [     138.36      111.21      187.75      162.92]\n",
      "Confiança: 0.9085\n",
      "-------------------\n",
      "--- Objeto 7 ---\n",
      "Class: broken stone (ID: 0.0)\n",
      "Coordenadas Bounding Box: [     358.21      145.31      402.82      201.96]\n",
      "Confiança: 0.8982\n",
      "-------------------\n",
      "--- Objeto 8 ---\n",
      "Class: stone (ID: 1.0)\n",
      "Coordenadas Bounding Box: [     247.65      265.27      300.08      337.79]\n",
      "Confiança: 0.8960\n",
      "-------------------\n",
      "--- Objeto 9 ---\n",
      "Class: broken stone (ID: 0.0)\n",
      "Coordenadas Bounding Box: [     195.07      311.39      250.54      372.72]\n",
      "Confiança: 0.8901\n",
      "-------------------\n",
      "--- Objeto 10 ---\n",
      "Class: stone (ID: 1.0)\n",
      "Coordenadas Bounding Box: [     10.288      285.24      59.732      359.09]\n",
      "Confiança: 0.8584\n",
      "-------------------\n",
      "--- Objeto 11 ---\n",
      "Class: stone (ID: 1.0)\n",
      "Coordenadas Bounding Box: [     19.512      360.54      60.818      423.89]\n",
      "Confiança: 0.7947\n",
      "-------------------\n",
      "\n",
      "\n",
      "\n",
      "0: 640x640 6 broken stones, 6 stones, 180.2ms\n",
      "Speed: 0.8ms preprocess, 180.2ms inference, 0.5ms postprocess per image at shape (1, 3, 640, 640)\n",
      "==== Resultados Previsão ====\n",
      "Imagem: Albion-Bot-4/test/images\\Captura-de-ecra-2025-04-09-182126_png.rf.894198dfcc2cdf9bf2e9a12b6f5c102f.jpg\n",
      "--- Objeto 1 ---\n",
      "Class: broken stone (ID: 0.0)\n",
      "Coordenadas Bounding Box: [     116.37      336.11      158.97      395.55]\n",
      "Confiança: 0.9179\n",
      "-------------------\n",
      "--- Objeto 2 ---\n",
      "Class: broken stone (ID: 0.0)\n",
      "Coordenadas Bounding Box: [     162.06      290.19      203.01      357.31]\n",
      "Confiança: 0.9106\n",
      "-------------------\n",
      "--- Objeto 3 ---\n",
      "Class: broken stone (ID: 0.0)\n",
      "Coordenadas Bounding Box: [     166.47      162.04      203.59      213.82]\n",
      "Confiança: 0.8947\n",
      "-------------------\n",
      "--- Objeto 4 ---\n",
      "Class: stone (ID: 1.0)\n",
      "Coordenadas Bounding Box: [     202.06      184.77      235.89      236.26]\n",
      "Confiança: 0.8929\n",
      "-------------------\n",
      "--- Objeto 5 ---\n",
      "Class: broken stone (ID: 0.0)\n",
      "Coordenadas Bounding Box: [     30.748       210.6      72.382      255.79]\n",
      "Confiança: 0.8921\n",
      "-------------------\n",
      "--- Objeto 6 ---\n",
      "Class: stone (ID: 1.0)\n",
      "Coordenadas Bounding Box: [     194.21      411.08      240.92      475.97]\n",
      "Confiança: 0.8916\n",
      "-------------------\n",
      "--- Objeto 7 ---\n",
      "Class: stone (ID: 1.0)\n",
      "Coordenadas Bounding Box: [     245.92      174.94      281.36      234.11]\n",
      "Confiança: 0.8913\n",
      "-------------------\n",
      "--- Objeto 8 ---\n",
      "Class: stone (ID: 1.0)\n",
      "Coordenadas Bounding Box: [     366.04       310.1      406.75      372.94]\n",
      "Confiança: 0.8874\n",
      "-------------------\n",
      "--- Objeto 9 ---\n",
      "Class: stone (ID: 1.0)\n",
      "Coordenadas Bounding Box: [     146.13      384.33      185.45      453.85]\n",
      "Confiança: 0.8636\n",
      "-------------------\n",
      "--- Objeto 10 ---\n",
      "Class: stone (ID: 1.0)\n",
      "Coordenadas Bounding Box: [     74.259      148.78      112.71       198.6]\n",
      "Confiança: 0.8250\n",
      "-------------------\n",
      "--- Objeto 11 ---\n",
      "Class: broken stone (ID: 0.0)\n",
      "Coordenadas Bounding Box: [      37.88      528.95      86.336      618.57]\n",
      "Confiança: 0.7814\n",
      "-------------------\n",
      "--- Objeto 12 ---\n",
      "Class: broken stone (ID: 0.0)\n",
      "Coordenadas Bounding Box: [     34.069      428.45      66.881      490.34]\n",
      "Confiança: 0.4493\n",
      "-------------------\n",
      "\n",
      "\n",
      "\n",
      "0: 640x640 13 stones, 191.4ms\n",
      "Speed: 0.8ms preprocess, 191.4ms inference, 0.6ms postprocess per image at shape (1, 3, 640, 640)\n",
      "==== Resultados Previsão ====\n",
      "Imagem: Albion-Bot-4/test/images\\Captura-de-ecra-2025-04-09-182222_png.rf.1bbb25392ad24a24658ef1987d183b6b.jpg\n",
      "--- Objeto 1 ---\n",
      "Class: stone (ID: 1.0)\n",
      "Coordenadas Bounding Box: [      181.9      351.77      219.54      415.11]\n",
      "Confiança: 0.8928\n",
      "-------------------\n",
      "--- Objeto 2 ---\n",
      "Class: stone (ID: 1.0)\n",
      "Coordenadas Bounding Box: [     193.17      268.95      234.73      320.68]\n",
      "Confiança: 0.8821\n",
      "-------------------\n",
      "--- Objeto 3 ---\n",
      "Class: stone (ID: 1.0)\n",
      "Coordenadas Bounding Box: [     229.67      161.31      266.08      212.25]\n",
      "Confiança: 0.8798\n",
      "-------------------\n",
      "--- Objeto 4 ---\n",
      "Class: stone (ID: 1.0)\n",
      "Coordenadas Bounding Box: [     229.76      376.79      273.41      435.43]\n",
      "Confiança: 0.8730\n",
      "-------------------\n",
      "--- Objeto 5 ---\n",
      "Class: stone (ID: 1.0)\n",
      "Coordenadas Bounding Box: [     395.53      279.95      431.27      345.92]\n",
      "Confiança: 0.8718\n",
      "-------------------\n",
      "--- Objeto 6 ---\n",
      "Class: stone (ID: 1.0)\n",
      "Coordenadas Bounding Box: [     3.3026      281.72       45.71      349.89]\n",
      "Confiança: 0.8697\n",
      "-------------------\n",
      "--- Objeto 7 ---\n",
      "Class: stone (ID: 1.0)\n",
      "Coordenadas Bounding Box: [     153.15      302.58      195.64      354.53]\n",
      "Confiança: 0.8687\n",
      "-------------------\n",
      "--- Objeto 8 ---\n",
      "Class: stone (ID: 1.0)\n",
      "Coordenadas Bounding Box: [     194.54      136.94      234.09      194.59]\n",
      "Confiança: 0.8686\n",
      "-------------------\n",
      "--- Objeto 9 ---\n",
      "Class: stone (ID: 1.0)\n",
      "Coordenadas Bounding Box: [     272.24      150.78      308.05      212.12]\n",
      "Confiança: 0.8644\n",
      "-------------------\n",
      "--- Objeto 10 ---\n",
      "Class: stone (ID: 1.0)\n",
      "Coordenadas Bounding Box: [      105.3      126.79      142.16      179.79]\n",
      "Confiança: 0.8435\n",
      "-------------------\n",
      "--- Objeto 11 ---\n",
      "Class: stone (ID: 1.0)\n",
      "Coordenadas Bounding Box: [     62.063      187.44      106.24      238.76]\n",
      "Confiança: 0.7673\n",
      "-------------------\n",
      "--- Objeto 12 ---\n",
      "Class: stone (ID: 1.0)\n",
      "Coordenadas Bounding Box: [     67.728      392.95      105.18      454.54]\n",
      "Confiança: 0.7401\n",
      "-------------------\n",
      "--- Objeto 13 ---\n",
      "Class: stone (ID: 1.0)\n",
      "Coordenadas Bounding Box: [     15.736       353.8      50.766      407.19]\n",
      "Confiança: 0.5096\n",
      "-------------------\n",
      "\n",
      "\n",
      "\n",
      "0: 640x640 12 stones, 179.4ms\n",
      "Speed: 0.9ms preprocess, 179.4ms inference, 0.5ms postprocess per image at shape (1, 3, 640, 640)\n",
      "==== Resultados Previsão ====\n",
      "Imagem: Albion-Bot-4/test/images\\Captura-de-ecra-2025-04-09-182410_png.rf.8d9b7b1b425e23c1a256eb8b3bccc848.jpg\n",
      "--- Objeto 1 ---\n",
      "Class: stone (ID: 1.0)\n",
      "Coordenadas Bounding Box: [     210.99      79.569       242.3      124.76]\n",
      "Confiança: 0.8974\n",
      "-------------------\n",
      "--- Objeto 2 ---\n",
      "Class: stone (ID: 1.0)\n",
      "Coordenadas Bounding Box: [     372.62      90.031      402.11      141.42]\n",
      "Confiança: 0.8870\n",
      "-------------------\n",
      "--- Objeto 3 ---\n",
      "Class: stone (ID: 1.0)\n",
      "Coordenadas Bounding Box: [     103.78      22.322      136.42      64.923]\n",
      "Confiança: 0.8658\n",
      "-------------------\n",
      "--- Objeto 4 ---\n",
      "Class: stone (ID: 1.0)\n",
      "Coordenadas Bounding Box: [     210.86    0.013577      241.83      35.562]\n",
      "Confiança: 0.8649\n",
      "-------------------\n",
      "--- Objeto 5 ---\n",
      "Class: stone (ID: 1.0)\n",
      "Coordenadas Bounding Box: [     238.64      9.1682      268.71      50.908]\n",
      "Confiança: 0.8643\n",
      "-------------------\n",
      "--- Objeto 6 ---\n",
      "Class: stone (ID: 1.0)\n",
      "Coordenadas Bounding Box: [     275.61       1.867      304.23      48.316]\n",
      "Confiança: 0.8626\n",
      "-------------------\n",
      "--- Objeto 7 ---\n",
      "Class: stone (ID: 1.0)\n",
      "Coordenadas Bounding Box: [      178.6      101.42      213.69      150.47]\n",
      "Confiança: 0.8547\n",
      "-------------------\n",
      "--- Objeto 8 ---\n",
      "Class: stone (ID: 1.0)\n",
      "Coordenadas Bounding Box: [     240.14      150.21      275.95      197.07]\n",
      "Confiança: 0.8354\n",
      "-------------------\n",
      "--- Objeto 9 ---\n",
      "Class: stone (ID: 1.0)\n",
      "Coordenadas Bounding Box: [      136.9           0      167.53      24.783]\n",
      "Confiança: 0.8210\n",
      "-------------------\n",
      "--- Objeto 10 ---\n",
      "Class: stone (ID: 1.0)\n",
      "Coordenadas Bounding Box: [     203.41      138.67       233.1       184.9]\n",
      "Confiança: 0.8058\n",
      "-------------------\n",
      "--- Objeto 11 ---\n",
      "Class: stone (ID: 1.0)\n",
      "Coordenadas Bounding Box: [     112.38      160.96      143.27      208.43]\n",
      "Confiança: 0.7082\n",
      "-------------------\n",
      "--- Objeto 12 ---\n",
      "Class: stone (ID: 1.0)\n",
      "Coordenadas Bounding Box: [     66.753      86.622      91.047       130.2]\n",
      "Confiança: 0.1505\n",
      "-------------------\n",
      "\n",
      "\n",
      "\n",
      "0: 640x640 6 broken stones, 6 stones, 190.5ms\n",
      "Speed: 0.8ms preprocess, 190.5ms inference, 0.5ms postprocess per image at shape (1, 3, 640, 640)\n",
      "==== Resultados Previsão ====\n",
      "Imagem: Albion-Bot-4/test/images\\screenshot19_png.rf.691609fe9a3eeec9d7383a9bce0a4fec.jpg\n",
      "--- Objeto 1 ---\n",
      "Class: broken stone (ID: 0.0)\n",
      "Coordenadas Bounding Box: [     484.47      312.29      523.01      363.07]\n",
      "Confiança: 0.9221\n",
      "-------------------\n",
      "--- Objeto 2 ---\n",
      "Class: broken stone (ID: 0.0)\n",
      "Coordenadas Bounding Box: [     436.11      131.75      469.82      172.16]\n",
      "Confiança: 0.9210\n",
      "-------------------\n",
      "--- Objeto 3 ---\n",
      "Class: stone (ID: 1.0)\n",
      "Coordenadas Bounding Box: [     265.41      233.48      297.65      291.18]\n",
      "Confiança: 0.9203\n",
      "-------------------\n",
      "--- Objeto 4 ---\n",
      "Class: broken stone (ID: 0.0)\n",
      "Coordenadas Bounding Box: [     425.94      215.51      462.95      259.75]\n",
      "Confiança: 0.9193\n",
      "-------------------\n",
      "--- Objeto 5 ---\n",
      "Class: broken stone (ID: 0.0)\n",
      "Coordenadas Bounding Box: [     343.99      329.61      376.07      389.23]\n",
      "Confiança: 0.9153\n",
      "-------------------\n",
      "--- Objeto 6 ---\n",
      "Class: stone (ID: 1.0)\n",
      "Coordenadas Bounding Box: [     403.02      103.34      435.82       150.3]\n",
      "Confiança: 0.9056\n",
      "-------------------\n",
      "--- Objeto 7 ---\n",
      "Class: stone (ID: 1.0)\n",
      "Coordenadas Bounding Box: [     613.92      231.61      639.85      283.53]\n",
      "Confiança: 0.9005\n",
      "-------------------\n",
      "--- Objeto 8 ---\n",
      "Class: stone (ID: 1.0)\n",
      "Coordenadas Bounding Box: [     320.36      92.392      352.45      135.06]\n",
      "Confiança: 0.8890\n",
      "-------------------\n",
      "--- Objeto 9 ---\n",
      "Class: broken stone (ID: 0.0)\n",
      "Coordenadas Bounding Box: [     485.09       126.4       506.5      168.59]\n",
      "Confiança: 0.7747\n",
      "-------------------\n",
      "--- Objeto 10 ---\n",
      "Class: stone (ID: 1.0)\n",
      "Coordenadas Bounding Box: [     286.25      287.78      319.49      340.65]\n",
      "Confiança: 0.7149\n",
      "-------------------\n",
      "--- Objeto 11 ---\n",
      "Class: broken stone (ID: 0.0)\n",
      "Coordenadas Bounding Box: [     434.02      289.17      470.12      350.82]\n",
      "Confiança: 0.6704\n",
      "-------------------\n",
      "--- Objeto 12 ---\n",
      "Class: stone (ID: 1.0)\n",
      "Coordenadas Bounding Box: [     298.97      143.43       324.4       185.9]\n",
      "Confiança: 0.4306\n",
      "-------------------\n",
      "\n",
      "\n",
      "\n",
      "0: 640x640 14 stones, 177.1ms\n",
      "Speed: 1.0ms preprocess, 177.1ms inference, 0.5ms postprocess per image at shape (1, 3, 640, 640)\n",
      "==== Resultados Previsão ====\n",
      "Imagem: Albion-Bot-4/test/images\\screenshot29_png.rf.41245e5c3d7287a5ddc9ed3b813a91ab.jpg\n",
      "--- Objeto 1 ---\n",
      "Class: stone (ID: 1.0)\n",
      "Coordenadas Bounding Box: [      180.5      113.31      210.41      159.91]\n",
      "Confiança: 0.9141\n",
      "-------------------\n",
      "--- Objeto 2 ---\n",
      "Class: stone (ID: 1.0)\n",
      "Coordenadas Bounding Box: [     271.41      416.34       310.7       475.3]\n",
      "Confiança: 0.9119\n",
      "-------------------\n",
      "--- Objeto 3 ---\n",
      "Class: stone (ID: 1.0)\n",
      "Coordenadas Bounding Box: [     207.33      192.16      245.14      244.06]\n",
      "Confiança: 0.9111\n",
      "-------------------\n",
      "--- Objeto 4 ---\n",
      "Class: stone (ID: 1.0)\n",
      "Coordenadas Bounding Box: [     171.09      176.57      200.09      231.41]\n",
      "Confiança: 0.9076\n",
      "-------------------\n",
      "--- Objeto 5 ---\n",
      "Class: stone (ID: 1.0)\n",
      "Coordenadas Bounding Box: [     143.83      138.35      181.75      187.59]\n",
      "Confiança: 0.9069\n",
      "-------------------\n",
      "--- Objeto 6 ---\n",
      "Class: stone (ID: 1.0)\n",
      "Coordenadas Bounding Box: [     72.343      56.406      102.78       94.79]\n",
      "Confiança: 0.9053\n",
      "-------------------\n",
      "--- Objeto 7 ---\n",
      "Class: stone (ID: 1.0)\n",
      "Coordenadas Bounding Box: [     250.68       35.31      277.38      78.534]\n",
      "Confiança: 0.9050\n",
      "-------------------\n",
      "--- Objeto 8 ---\n",
      "Class: stone (ID: 1.0)\n",
      "Coordenadas Bounding Box: [     24.402      127.48      55.316      177.07]\n",
      "Confiança: 0.9010\n",
      "-------------------\n",
      "--- Objeto 9 ---\n",
      "Class: stone (ID: 1.0)\n",
      "Coordenadas Bounding Box: [     210.38      40.569      241.07      80.824]\n",
      "Confiança: 0.8985\n",
      "-------------------\n",
      "--- Objeto 10 ---\n",
      "Class: stone (ID: 1.0)\n",
      "Coordenadas Bounding Box: [      348.5      128.18      379.86      173.49]\n",
      "Confiança: 0.8966\n",
      "-------------------\n",
      "--- Objeto 11 ---\n",
      "Class: stone (ID: 1.0)\n",
      "Coordenadas Bounding Box: [     183.93      20.383      213.48      62.928]\n",
      "Confiança: 0.8917\n",
      "-------------------\n",
      "--- Objeto 12 ---\n",
      "Class: stone (ID: 1.0)\n",
      "Coordenadas Bounding Box: [     107.86      12.799      136.82      51.317]\n",
      "Confiança: 0.8877\n",
      "-------------------\n",
      "--- Objeto 13 ---\n",
      "Class: stone (ID: 1.0)\n",
      "Coordenadas Bounding Box: [     72.534         205      106.84      259.76]\n",
      "Confiança: 0.8872\n",
      "-------------------\n",
      "--- Objeto 14 ---\n",
      "Class: stone (ID: 1.0)\n",
      "Coordenadas Bounding Box: [     92.527      275.19      122.41      331.34]\n",
      "Confiança: 0.3490\n",
      "-------------------\n",
      "\n",
      "\n",
      "\n",
      "0: 640x640 2 broken stones, 9 stones, 179.9ms\n",
      "Speed: 0.8ms preprocess, 179.9ms inference, 0.6ms postprocess per image at shape (1, 3, 640, 640)\n",
      "==== Resultados Previsão ====\n",
      "Imagem: Albion-Bot-4/test/images\\screenshot57_png.rf.153d1a641fbc58af23cd1e6e9e6cb8ea.jpg\n",
      "--- Objeto 1 ---\n",
      "Class: broken stone (ID: 0.0)\n",
      "Coordenadas Bounding Box: [     373.02      268.92      413.91      325.33]\n",
      "Confiança: 0.9269\n",
      "-------------------\n",
      "--- Objeto 2 ---\n",
      "Class: broken stone (ID: 0.0)\n",
      "Coordenadas Bounding Box: [     333.44      249.35      363.66      307.19]\n",
      "Confiança: 0.9218\n",
      "-------------------\n",
      "--- Objeto 3 ---\n",
      "Class: stone (ID: 1.0)\n",
      "Coordenadas Bounding Box: [     508.13       193.3       545.3      244.03]\n",
      "Confiança: 0.9139\n",
      "-------------------\n",
      "--- Objeto 4 ---\n",
      "Class: stone (ID: 1.0)\n",
      "Coordenadas Bounding Box: [      184.3      249.88      211.75      297.22]\n",
      "Confiança: 0.9101\n",
      "-------------------\n",
      "--- Objeto 5 ---\n",
      "Class: stone (ID: 1.0)\n",
      "Coordenadas Bounding Box: [     389.43      85.539      418.58      135.67]\n",
      "Confiança: 0.9052\n",
      "-------------------\n",
      "--- Objeto 6 ---\n",
      "Class: stone (ID: 1.0)\n",
      "Coordenadas Bounding Box: [     347.59      90.447      380.49      141.33]\n",
      "Confiança: 0.9039\n",
      "-------------------\n",
      "--- Objeto 7 ---\n",
      "Class: stone (ID: 1.0)\n",
      "Coordenadas Bounding Box: [     317.83      74.057      348.19      117.19]\n",
      "Confiança: 0.8992\n",
      "-------------------\n",
      "--- Objeto 8 ---\n",
      "Class: stone (ID: 1.0)\n",
      "Coordenadas Bounding Box: [     235.79      64.467      267.78      105.08]\n",
      "Confiança: 0.8963\n",
      "-------------------\n",
      "--- Objeto 9 ---\n",
      "Class: stone (ID: 1.0)\n",
      "Coordenadas Bounding Box: [     208.33       110.2      238.69      157.96]\n",
      "Confiança: 0.8942\n",
      "-------------------\n",
      "--- Objeto 10 ---\n",
      "Class: stone (ID: 1.0)\n",
      "Coordenadas Bounding Box: [     170.81      190.54      198.94      248.42]\n",
      "Confiança: 0.7086\n",
      "-------------------\n",
      "--- Objeto 11 ---\n",
      "Class: stone (ID: 1.0)\n",
      "Coordenadas Bounding Box: [     484.04      524.96      511.52      583.67]\n",
      "Confiança: 0.6328\n",
      "-------------------\n",
      "\n",
      "\n",
      "\n",
      "0: 640x640 1 broken stone, 13 stones, 177.7ms\n",
      "Speed: 0.8ms preprocess, 177.7ms inference, 0.5ms postprocess per image at shape (1, 3, 640, 640)\n",
      "==== Resultados Previsão ====\n",
      "Imagem: Albion-Bot-4/test/images\\screenshot60_png.rf.91354aab9d8630d15de83dcfb1f5fe66.jpg\n",
      "--- Objeto 1 ---\n",
      "Class: stone (ID: 1.0)\n",
      "Coordenadas Bounding Box: [     315.19      168.75      348.76      217.13]\n",
      "Confiança: 0.9171\n",
      "-------------------\n",
      "--- Objeto 2 ---\n",
      "Class: stone (ID: 1.0)\n",
      "Coordenadas Bounding Box: [     346.44      195.95      383.88      243.43]\n",
      "Confiança: 0.9169\n",
      "-------------------\n",
      "--- Objeto 3 ---\n",
      "Class: stone (ID: 1.0)\n",
      "Coordenadas Bounding Box: [     530.52      320.86      572.36      378.34]\n",
      "Confiança: 0.9148\n",
      "-------------------\n",
      "--- Objeto 4 ---\n",
      "Class: stone (ID: 1.0)\n",
      "Coordenadas Bounding Box: [      291.9       337.7      334.37       400.7]\n",
      "Confiança: 0.9137\n",
      "-------------------\n",
      "--- Objeto 5 ---\n",
      "Class: stone (ID: 1.0)\n",
      "Coordenadas Bounding Box: [     394.78      185.62      426.05      240.85]\n",
      "Confiança: 0.9129\n",
      "-------------------\n",
      "--- Objeto 6 ---\n",
      "Class: stone (ID: 1.0)\n",
      "Coordenadas Bounding Box: [     190.16      218.58      224.66      268.97]\n",
      "Confiança: 0.9118\n",
      "-------------------\n",
      "--- Objeto 7 ---\n",
      "Class: stone (ID: 1.0)\n",
      "Coordenadas Bounding Box: [     224.24      155.63      258.05       203.9]\n",
      "Confiança: 0.9097\n",
      "-------------------\n",
      "--- Objeto 8 ---\n",
      "Class: stone (ID: 1.0)\n",
      "Coordenadas Bounding Box: [     219.17      435.94      260.41      515.96]\n",
      "Confiança: 0.9061\n",
      "-------------------\n",
      "--- Objeto 9 ---\n",
      "Class: stone (ID: 1.0)\n",
      "Coordenadas Bounding Box: [     327.15       389.1      365.27      462.59]\n",
      "Confiança: 0.9047\n",
      "-------------------\n",
      "--- Objeto 10 ---\n",
      "Class: stone (ID: 1.0)\n",
      "Coordenadas Bounding Box: [     157.22      390.57      198.12      457.53]\n",
      "Confiança: 0.9029\n",
      "-------------------\n",
      "--- Objeto 11 ---\n",
      "Class: stone (ID: 1.0)\n",
      "Coordenadas Bounding Box: [     327.45      300.43       368.9       353.2]\n",
      "Confiança: 0.9015\n",
      "-------------------\n",
      "--- Objeto 12 ---\n",
      "Class: stone (ID: 1.0)\n",
      "Coordenadas Bounding Box: [     378.73      419.39      424.22      484.93]\n",
      "Confiança: 0.9015\n",
      "-------------------\n",
      "--- Objeto 13 ---\n",
      "Class: stone (ID: 1.0)\n",
      "Coordenadas Bounding Box: [     145.95      324.67      180.91      391.34]\n",
      "Confiança: 0.8890\n",
      "-------------------\n",
      "--- Objeto 14 ---\n",
      "Class: broken stone (ID: 0.0)\n",
      "Coordenadas Bounding Box: [     251.16      536.11      289.08      622.04]\n",
      "Confiança: 0.5788\n",
      "-------------------\n",
      "\n",
      "\n",
      "\n",
      "0: 640x640 6 broken stones, 4 stones, 176.9ms\n",
      "Speed: 0.8ms preprocess, 176.9ms inference, 0.5ms postprocess per image at shape (1, 3, 640, 640)\n",
      "==== Resultados Previsão ====\n",
      "Imagem: Albion-Bot-4/test/images\\screenshot99_png.rf.756e038fef1a3e4a399cab74511373c3.jpg\n",
      "--- Objeto 1 ---\n",
      "Class: broken stone (ID: 0.0)\n",
      "Coordenadas Bounding Box: [     214.52      207.93      248.63      256.71]\n",
      "Confiança: 0.9376\n",
      "-------------------\n",
      "--- Objeto 2 ---\n",
      "Class: broken stone (ID: 0.0)\n",
      "Coordenadas Bounding Box: [     174.78      239.68       215.4      293.74]\n",
      "Confiança: 0.9237\n",
      "-------------------\n",
      "--- Objeto 3 ---\n",
      "Class: stone (ID: 1.0)\n",
      "Coordenadas Bounding Box: [     99.841      318.46      135.41      381.27]\n",
      "Confiança: 0.9203\n",
      "-------------------\n",
      "--- Objeto 4 ---\n",
      "Class: stone (ID: 1.0)\n",
      "Coordenadas Bounding Box: [      398.4      222.08       435.9      276.16]\n",
      "Confiança: 0.9144\n",
      "-------------------\n",
      "--- Objeto 5 ---\n",
      "Class: broken stone (ID: 0.0)\n",
      "Coordenadas Bounding Box: [     92.456      136.34      128.22      178.93]\n",
      "Confiança: 0.9127\n",
      "-------------------\n",
      "--- Objeto 6 ---\n",
      "Class: broken stone (ID: 0.0)\n",
      "Coordenadas Bounding Box: [     204.82      282.79      237.36      340.97]\n",
      "Confiança: 0.9013\n",
      "-------------------\n",
      "--- Objeto 7 ---\n",
      "Class: stone (ID: 1.0)\n",
      "Coordenadas Bounding Box: [     129.72      82.331      165.35      128.57]\n",
      "Confiança: 0.8786\n",
      "-------------------\n",
      "--- Objeto 8 ---\n",
      "Class: broken stone (ID: 0.0)\n",
      "Coordenadas Bounding Box: [     212.13      94.456      247.42      139.21]\n",
      "Confiança: 0.8712\n",
      "-------------------\n",
      "--- Objeto 9 ---\n",
      "Class: broken stone (ID: 0.0)\n",
      "Coordenadas Bounding Box: [     287.64      111.66      319.54      159.91]\n",
      "Confiança: 0.8623\n",
      "-------------------\n",
      "--- Objeto 10 ---\n",
      "Class: stone (ID: 1.0)\n",
      "Coordenadas Bounding Box: [     116.92      398.86      154.55       444.2]\n",
      "Confiança: 0.1035\n",
      "-------------------\n",
      "\n",
      "\n"
     ]
    }
   ],
   "execution_count": 5
  },
  {
   "cell_type": "markdown",
   "metadata": {},
   "source": [
    "# Inferência em tempo real"
   ]
  },
  {
   "cell_type": "code",
   "metadata": {
    "ExecuteTime": {
     "end_time": "2025-05-08T14:56:52.156323Z",
     "start_time": "2025-05-08T14:56:51.805430Z"
    }
   },
   "source": [
    "import mss\n",
    "import cv2\n",
    "import numpy as np\n",
    "import time\n",
    "import pyautogui"
   ],
   "outputs": [],
   "execution_count": 1
  },
  {
   "cell_type": "code",
   "metadata": {
    "ExecuteTime": {
     "end_time": "2025-05-08T15:24:55.905571Z",
     "start_time": "2025-05-08T15:21:00.539934Z"
    }
   },
   "source": [
    "# Carregar o modelo\n",
    "model = YOLO(\"runs/detect/train4/weights/best.pt\")\n",
    "\n",
    "screen_width, screen_height = pyautogui.size()\n",
    "class_names = model.names\n",
    "confidence_level = 0.8\n",
    "\n",
    "# função que captura o ecrã e devolve a imagem\n",
    "def capture_screen():\n",
    "    with mss.mss() as sct:\n",
    "        screenshot = sct.grab(sct.monitors[1])  # Capturar do monitor principal\n",
    "        img = np.array(screenshot)  # Converter em imagem\n",
    "        img = cv2.cvtColor(img, cv2.COLOR_BGRA2BGR) # Converter BGRA para RGB\n",
    "        img_height, img_width, _ = img.shape\n",
    "\n",
    "        # Opcionalmente, guardar a imagem capturada\n",
    "        # timestamp = time.strftime(\"%Y%m%d-%H%M%S-%f\")  # Include microseconds\n",
    "        # img_path = os.path.join('captured_images', f\"capture_{timestamp}.jpg\")\n",
    "        # cv2.imwrite(img_path, img)\n",
    "\n",
    "        return img, img_width, img_height\n",
    "\n",
    "while True:\n",
    "    img, img_width, img_height = capture_screen()\n",
    " \n",
    "    #results = model.predict(source=img, save=True, save_txt=True, conf=0.1) \n",
    "    results = model(img)\n",
    "\n",
    "    # Extract detections (bounding boxes)\n",
    "    detections = results[0].boxes.xyxy # Bounding boxes (x1, y1, x2, y2)\n",
    "    label = results[0].boxes.cls.cpu().numpy()\n",
    "    confidence = results[0].boxes.conf.cpu().numpy()\n",
    "\n",
    "    if len(label) > 0 and len(confidence) > 0:\n",
    "        class_confidence = confidence[0]\n",
    "        if class_confidence > confidence_level:\n",
    "            class_id = label[0]\n",
    "            class_label = class_names[class_id] if class_id in class_names else \"Desconhecido\"\n",
    "\n",
    "    if len(detections) > 0:\n",
    "        print(f\"Detetou {len(detections)} objetos.\")\n",
    "\n",
    "        # Opcionalmente, guardar imagem com as deteções\n",
    "        annotated_frame = results[0].plot()  # Draw bounding boxes on the image\n",
    "        result_path = os.path.join('detections')\n",
    "        cv2.imwrite(result_path, annotated_frame)\n",
    "\n",
    "        for i, (x1, y1, x2, y2) in enumerate(detections.tolist()):\n",
    "            # Calculate the center of the object\n",
    "            center_x = int((x1 + x2) / 2)\n",
    "            center_y = int((y1 + y2) / 2)\n",
    "\n",
    "            # converter coordenadas\n",
    "            scaled_x = int((center_x / img_width) * screen_width)\n",
    "            scaled_y = int((center_y / img_height) * screen_height)\n",
    "\n",
    "            if class_label == 'stone':\n",
    "                pyautogui.moveTo(scaled_x, scaled_y, duration=0.3)\n",
    "                pyautogui.click()\n",
    "                print(f\"Moved to object {i+1} at ({scaled_x}, {scaled_y})\")\n",
    "                time.sleep(5)\n",
    "\n",
    "            # Pausa breve, entre objetos\n",
    "            time.sleep(0.25)  # Adjust delay as needed\n",
    "\n",
    "    time.sleep(3)"
   ],
   "outputs": [
    {
     "name": "stdout",
     "output_type": "stream",
     "text": [
      "\n",
      "0: 384x640 (no detections), 149.7ms\n",
      "Speed: 2.5ms preprocess, 149.7ms inference, 0.5ms postprocess per image at shape (1, 3, 384, 640)\n",
      "\n",
      "0: 384x640 4 broken stones, 7 stones, 173.0ms\n",
      "Speed: 2.1ms preprocess, 173.0ms inference, 0.6ms postprocess per image at shape (1, 3, 384, 640)\n",
      "Detetou 11 objetos.\n",
      "\n",
      "0: 384x640 5 broken stones, 6 stones, 129.9ms\n",
      "Speed: 1.6ms preprocess, 129.9ms inference, 0.5ms postprocess per image at shape (1, 3, 384, 640)\n",
      "Detetou 11 objetos.\n",
      "\n",
      "0: 384x640 2 broken stones, 8 stones, 133.0ms\n",
      "Speed: 1.4ms preprocess, 133.0ms inference, 0.5ms postprocess per image at shape (1, 3, 384, 640)\n",
      "Detetou 10 objetos.\n",
      "\n",
      "0: 384x640 1 broken stone, 9 stones, 136.4ms\n",
      "Speed: 1.7ms preprocess, 136.4ms inference, 0.5ms postprocess per image at shape (1, 3, 384, 640)\n",
      "Detetou 10 objetos.\n",
      "\n",
      "0: 384x640 1 broken stone, 10 stones, 131.2ms\n",
      "Speed: 1.5ms preprocess, 131.2ms inference, 0.7ms postprocess per image at shape (1, 3, 384, 640)\n",
      "Detetou 11 objetos.\n",
      "Moved to object 1 at (1419, 600)\n",
      "Moved to object 2 at (688, 633)\n",
      "Moved to object 3 at (939, 771)\n",
      "Moved to object 4 at (397, 418)\n",
      "Moved to object 5 at (778, 730)\n",
      "Moved to object 6 at (237, 602)\n",
      "Moved to object 7 at (784, 336)\n",
      "Moved to object 8 at (508, 311)\n",
      "Moved to object 9 at (802, 564)\n",
      "Moved to object 10 at (444, 810)\n",
      "Moved to object 11 at (883, 372)\n",
      "\n",
      "0: 384x640 4 broken stones, 6 stones, 134.1ms\n",
      "Speed: 2.4ms preprocess, 134.1ms inference, 0.6ms postprocess per image at shape (1, 3, 384, 640)\n",
      "Detetou 10 objetos.\n",
      "\n",
      "0: 384x640 3 broken stones, 5 stones, 132.9ms\n",
      "Speed: 1.5ms preprocess, 132.9ms inference, 0.6ms postprocess per image at shape (1, 3, 384, 640)\n",
      "Detetou 8 objetos.\n",
      "\n",
      "0: 384x640 2 broken stones, 6 stones, 137.0ms\n",
      "Speed: 1.9ms preprocess, 137.0ms inference, 0.4ms postprocess per image at shape (1, 3, 384, 640)\n",
      "Detetou 8 objetos.\n",
      "Moved to object 1 at (890, 423)\n",
      "Moved to object 2 at (1134, 588)\n",
      "Moved to object 3 at (970, 266)\n",
      "Moved to object 4 at (1298, 205)\n",
      "Moved to object 5 at (956, 519)\n",
      "Moved to object 6 at (1049, 179)\n",
      "Moved to object 7 at (1395, 240)\n",
      "Moved to object 8 at (1551, 554)\n",
      "\n",
      "0: 384x640 8 stones, 123.7ms\n",
      "Speed: 1.8ms preprocess, 123.7ms inference, 0.5ms postprocess per image at shape (1, 3, 384, 640)\n",
      "Detetou 8 objetos.\n",
      "Moved to object 1 at (1212, 581)\n",
      "Moved to object 2 at (1159, 818)\n",
      "Moved to object 3 at (536, 892)\n",
      "Moved to object 4 at (1055, 907)\n",
      "Moved to object 5 at (1361, 564)\n",
      "Moved to object 6 at (678, 639)\n",
      "Moved to object 7 at (787, 504)\n",
      "Moved to object 8 at (1096, 532)\n",
      "\n",
      "0: 384x640 4 broken stones, 7 stones, 127.9ms\n",
      "Speed: 1.4ms preprocess, 127.9ms inference, 0.5ms postprocess per image at shape (1, 3, 384, 640)\n",
      "Detetou 11 objetos.\n",
      "\n",
      "0: 384x640 5 broken stones, 5 stones, 127.8ms\n",
      "Speed: 1.3ms preprocess, 127.8ms inference, 0.6ms postprocess per image at shape (1, 3, 384, 640)\n",
      "Detetou 10 objetos.\n",
      "\n",
      "0: 384x640 8 broken stones, 6 stones, 126.9ms\n",
      "Speed: 1.4ms preprocess, 126.9ms inference, 0.8ms postprocess per image at shape (1, 3, 384, 640)\n",
      "Detetou 14 objetos.\n",
      "\n",
      "0: 384x640 5 broken stones, 9 stones, 125.3ms\n",
      "Speed: 1.3ms preprocess, 125.3ms inference, 0.6ms postprocess per image at shape (1, 3, 384, 640)\n",
      "Detetou 14 objetos.\n",
      "\n",
      "0: 384x640 (no detections), 128.2ms\n",
      "Speed: 1.4ms preprocess, 128.2ms inference, 0.4ms postprocess per image at shape (1, 3, 384, 640)\n",
      "\n",
      "0: 384x640 (no detections), 131.5ms\n",
      "Speed: 1.1ms preprocess, 131.5ms inference, 0.3ms postprocess per image at shape (1, 3, 384, 640)\n"
     ]
    },
    {
     "ename": "KeyboardInterrupt",
     "evalue": "",
     "output_type": "error",
     "traceback": [
      "\u001B[31m---------------------------------------------------------------------------\u001B[39m",
      "\u001B[31mKeyboardInterrupt\u001B[39m                         Traceback (most recent call last)",
      "\u001B[36mCell\u001B[39m\u001B[36m \u001B[39m\u001B[32mIn[13]\u001B[39m\u001B[32m, line 66\u001B[39m\n\u001B[32m     63\u001B[39m         \u001B[38;5;66;03m# Pausa breve, entre objetos\u001B[39;00m\n\u001B[32m     64\u001B[39m         time.sleep(\u001B[32m0.25\u001B[39m)  \u001B[38;5;66;03m# Adjust delay as needed\u001B[39;00m\n\u001B[32m---> \u001B[39m\u001B[32m66\u001B[39m \u001B[43mtime\u001B[49m\u001B[43m.\u001B[49m\u001B[43msleep\u001B[49m\u001B[43m(\u001B[49m\u001B[32;43m3\u001B[39;49m\u001B[43m)\u001B[49m\n",
      "\u001B[31mKeyboardInterrupt\u001B[39m: "
     ]
    }
   ],
   "execution_count": 13
  },
  {
   "cell_type": "code",
   "execution_count": null,
   "metadata": {},
   "outputs": [],
   "source": []
  }
 ],
 "metadata": {
  "kernelspec": {
   "display_name": "ML",
   "language": "python",
   "name": "python3"
  },
  "language_info": {
   "codemirror_mode": {
    "name": "ipython",
    "version": 3
   },
   "file_extension": ".py",
   "mimetype": "text/x-python",
   "name": "python",
   "nbconvert_exporter": "python",
   "pygments_lexer": "ipython3",
   "version": "3.12.8"
  }
 },
 "nbformat": 4,
 "nbformat_minor": 2
}
